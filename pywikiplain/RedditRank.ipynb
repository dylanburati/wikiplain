{
 "cells": [
  {
   "cell_type": "markdown",
   "metadata": {
    "id": "y4duRjzABB9n"
   },
   "source": [
    "## Counting mentions of Wikipedia articles in Reddit submission titles"
   ]
  },
  {
   "cell_type": "markdown",
   "metadata": {
    "id": "y4duRjzABB9n"
   },
   "source": [
    "### Prerequisites\n",
    "\n",
    "1. Download a dump of Wikipedia's articles, named `enwiki-{date_string}-pages-articles-multistream.xml.bz2`\n",
    "2. Download the `enwiki-{date_string}-pages-articles-multistream-index.txt.bz2` file\n",
    "3. Move those files into the same folder, removing the `enwiki-{date_string}` prefix\n",
    "4. Process the `xml.bz2` file into a Parquet file using `wikiplain.load_bz2`\n",
    "5. Run `PageRank.ipynb`"
   ]
  },
  {
   "cell_type": "code",
   "execution_count": 4,
   "metadata": {},
   "outputs": [],
   "source": [
    "import asyncio\n",
    "import glob\n",
    "import gzip\n",
    "import io\n",
    "import itertools\n",
    "import json\n",
    "import math\n",
    "import operator\n",
    "import os\n",
    "import pickle\n",
    "import random\n",
    "import re\n",
    "import shutil\n",
    "import socket\n",
    "import struct\n",
    "import subprocess\n",
    "import sys\n",
    "import tarfile\n",
    "import time\n",
    "from collections import ChainMap, defaultdict, deque\n",
    "from concurrent.futures import ThreadPoolExecutor\n",
    "from contextlib import asynccontextmanager, contextmanager\n",
    "from dataclasses import dataclass\n",
    "from datetime import datetime\n",
    "from enum import Enum, auto\n",
    "from functools import lru_cache, partial\n",
    "from urllib.parse import urlencode, urlsplit, quote as urlquote, unquote as urlunquote\n",
    "from xml.sax.saxutils import unescape as xml_unescape\n",
    "from typing import Any, Awaitable, Callable, Literal, TypeVar\n",
    "\n",
    "import cbor2\n",
    "import httpx\n",
    "import ijson\n",
    "import matplotlib.pyplot as plt\n",
    "import mmh3\n",
    "import numpy as np\n",
    "import pandas as pd\n",
    "import pypocketmap as pkm\n",
    "import pyarrow\n",
    "import pyarrow.parquet as pq\n",
    "import polars as pl\n",
    "import redis\n",
    "import seaborn as sns\n",
    "import sqlalchemy as sa\n",
    "import scipy.sparse\n",
    "import toolz\n",
    "from dotenv import load_dotenv\n",
    "from ipywidgets import interact\n",
    "from spacy.lang.en import English\n",
    "from sqlalchemy import create_engine\n",
    "from sqlalchemy.sql import column as sqlcolumn, select, text as sqltext\n",
    "from tqdm.auto import tqdm\n",
    "from zstandard import ZstdDecompressor, ZstdDecompressionReader\n",
    "from arsenal.datastructures.unionfind import UnionFind\n",
    "from arsenal.datastructures.heap import MinMaxHeap\n",
    "\n",
    "import wikiplain\n",
    "from special_cases import SECOND_LEVEL_DOMAINS\n",
    "from nbhelpers.polars import pager, searcher\n",
    "from umbc_web.process_possf2 import PENN_TAGS, PENN_TAGS_BY_ID"
   ]
  },
  {
   "cell_type": "code",
   "execution_count": 5,
   "metadata": {},
   "outputs": [
    {
     "data": {
      "text/plain": [
       "True"
      ]
     },
     "execution_count": 5,
     "metadata": {},
     "output_type": "execute_result"
    }
   ],
   "source": [
    "load_dotenv()"
   ]
  },
  {
   "cell_type": "code",
   "execution_count": 6,
   "metadata": {},
   "outputs": [
    {
     "data": {
      "text/plain": [
       "polars.config.Config"
      ]
     },
     "execution_count": 6,
     "metadata": {},
     "output_type": "execute_result"
    }
   ],
   "source": [
    "pl.Config.set_fmt_str_lengths(160)"
   ]
  },
  {
   "cell_type": "code",
   "execution_count": 7,
   "metadata": {},
   "outputs": [],
   "source": [
    "class RedditRankFiles:\n",
    "    def __init__(self, date_string):\n",
    "        self.date_string = date_string\n",
    "        self.enwiki_dir = f\"{os.environ['ENWIKI_DIR']}/{date_string}\"\n",
    "        self.parquet_dir = os.environ.get('ENWIKI_PARQUET_DIR', self.enwiki_dir)\n",
    "        self.reddit_dir = f\"{os.environ['REDDIT_DIR']}\"\n",
    "        try:\n",
    "            os.mkdir(f\"{self.enwiki_dir}/pagerank\")\n",
    "        except FileExistsError:\n",
    "            pass\n",
    "    \n",
    "    @property\n",
    "    def enwiki_parquet_filename(self):\n",
    "        return f\"{self.parquet_dir}/enwiki_{self.date_string}.parquet\"\n",
    "    \n",
    "    @property\n",
    "    def pagerank_parquet_filename(self):\n",
    "        return f\"{self.parquet_dir}/enwiki_{self.date_string}_pagerank.parquet\"\n",
    "    \n",
    "    @property\n",
    "    def redditrank_parquet_filename(self):\n",
    "        return f\"{self.parquet_dir}/enwiki_{self.date_string}_redditrank.parquet\"\n",
    "    \n",
    "    @property\n",
    "    def enwiki_tokenized_arrow_filename(self):\n",
    "        return f\"{self.parquet_dir}/enwiki_tokenized.arrow\"\n",
    "    \n",
    "    @property\n",
    "    def enwiki_tokenized_database_uri(self):\n",
    "        return f\"sqlite:///{self.parquet_dir}/enwiki_tokenized_{self.date_string}.sqlite\"\n",
    "\n",
    "    @property\n",
    "    def nub_filename(self):\n",
    "        return f\"{self.enwiki_dir}/pagerank/nub.bin\"\n",
    "    \n",
    "    @property\n",
    "    def id_map_filename(self):\n",
    "        return f\"{self.enwiki_dir}/pagerank/id_map.bin\"\n",
    "    \n",
    "    @property\n",
    "    def id_map2_filename(self):\n",
    "        return f\"{self.enwiki_dir}/pagerank/id_map2.bin\"\n",
    "    \n",
    "    @property\n",
    "    def dense_id_arr_filename(self):\n",
    "        return f\"{self.enwiki_dir}/pagerank/dense_id_arr.npy\"\n",
    "    \n",
    "    @property\n",
    "    def edge_filename_pattern(self):\n",
    "        return f\"{self.enwiki_dir}/pagerank/edges_*.npz\"\n",
    "    \n",
    "    def edge_filenames(self, num_partitions):\n",
    "        return [\n",
    "            f\"{self.enwiki_dir}/pagerank/edges_{i}.npz\"\n",
    "            for i in range(num_partitions)\n",
    "        ]\n",
    "    \n",
    "    @property\n",
    "    def hatedge_filename_pattern(self):\n",
    "        return f\"{self.enwiki_dir}/pagerank/hatedges_*.npy\"\n",
    "    \n",
    "    def hatedge_filenames(self, num_partitions):\n",
    "        return [\n",
    "            f\"{self.enwiki_dir}/pagerank/hatedges_{i}.npy\"\n",
    "            for i in range(num_partitions)\n",
    "        ]\n",
    "    \n",
    "    @property\n",
    "    def hatcheck_arr_filename(self):\n",
    "        return f\"{self.enwiki_dir}/pagerank/hatcheck_arr.npy\"\n",
    "\n",
    "    @property\n",
    "    def in_degree_filename(self):\n",
    "        return f\"{self.enwiki_dir}/pagerank/in_degree.npy\"\n",
    "    \n",
    "    @property\n",
    "    def out_degree_filename(self):\n",
    "        return f\"{self.enwiki_dir}/pagerank/out_degree.npy\"\n",
    "    \n",
    "    @property\n",
    "    def disambig_arr_filename(self):\n",
    "        return f\"{self.enwiki_dir}/pagerank/disambig_arr.npy\"\n",
    "    \n",
    "    @property\n",
    "    def top_cite_domains_filename(self):\n",
    "        return f\"{self.enwiki_dir}/pagerank/top_cite_domains.bin\"\n",
    "\n",
    "    @property\n",
    "    def reddit_relevance_filename_pattern(self):\n",
    "        return f\"{self.enwiki_dir}/redditrank/RS_*.npy\"\n",
    "    \n",
    "    def adjacency_filename(self, partition):\n",
    "        return f\"{self.enwiki_dir}/pagerank/adjacency_{partition}.npz\"\n",
    "    \n",
    "    def adjacency_filenames(self, num_partitions):\n",
    "        return [self.adjacency_filename(i) for i in range(num_partitions)]\n",
    "\n",
    "    @property\n",
    "    def category_id_map_filename(self):\n",
    "        return f\"{self.enwiki_dir}/categories/category_id_map.bin\"\n",
    "\n",
    "    @property\n",
    "    def encategory_graph_database_uri(self):\n",
    "        return f\"sqlite:///{self.parquet_dir}/enwiki_category_graph_{self.date_string}.sqlite\"\n",
    "    \n",
    "    @property\n",
    "    def template_id_maps_filename(self):\n",
    "        return f\"{self.enwiki_dir}/pagerank/template_id_maps.pkl\""
   ]
  },
  {
   "cell_type": "code",
   "execution_count": 8,
   "metadata": {},
   "outputs": [],
   "source": [
    "date_string = os.environ.get(\"DS\", \"20250201\")\n",
    "files = RedditRankFiles(date_string)"
   ]
  },
  {
   "cell_type": "markdown",
   "metadata": {
    "id": "y4duRjzABB9n"
   },
   "source": [
    "### Re-use outputs computed by PageRank.ipynb\n",
    "\n",
    "1. Pages with the same title\n",
    "2. `id_map` from non-redirecting article titles to node number, and `id_map2` from redirecting article titles to node number"
   ]
  },
  {
   "cell_type": "code",
   "execution_count": 9,
   "metadata": {},
   "outputs": [],
   "source": [
    "def iterdecode(f):\n",
    "    decoder = cbor2.CBORDecoder(f)\n",
    "    while True:\n",
    "        try:\n",
    "            yield decoder.decode()\n",
    "        except EOFError:\n",
    "            return"
   ]
  },
  {
   "cell_type": "code",
   "execution_count": 10,
   "metadata": {},
   "outputs": [],
   "source": [
    "with open(files.id_map_filename, \"rb\") as fp:\n",
    "    id_map = pkm.create(str, int)\n",
    "    for k, v in iterdecode(fp):\n",
    "        id_map[k] = v\n",
    "with open(files.id_map2_filename, \"rb\") as fp:\n",
    "    id_map2 = pkm.create(str, int)\n",
    "    for k, v in iterdecode(fp):\n",
    "        id_map2[k] = v\n",
    "# with open(files.dense_id_arr_filename, \"rb\") as fp:\n",
    "#     dense_id_arr = np.load(fp)"
   ]
  },
  {
   "cell_type": "code",
   "execution_count": 11,
   "metadata": {},
   "outputs": [],
   "source": [
    "N = len(id_map)\n",
    "# ids_concat = pyarrow.array(itertools.chain(id_map.keys(), id_map2.keys()), size=len(id_map) + len(id_map2))"
   ]
  },
  {
   "cell_type": "code",
   "execution_count": 12,
   "metadata": {},
   "outputs": [],
   "source": [
    "# node_ids_concat = pyarrow.array(itertools.chain(id_map.values(), id_map2.values()), size=len(id_map) + len(id_map2), type=pyarrow.uint32())"
   ]
  },
  {
   "cell_type": "code",
   "execution_count": 13,
   "metadata": {},
   "outputs": [],
   "source": [
    "LOG_PARTITION_SIZE = 16\n",
    "PARTITION_SIZE = 1 << LOG_PARTITION_SIZE\n",
    "NUM_PARTITIONS = math.ceil(N / PARTITION_SIZE)"
   ]
  },
  {
   "cell_type": "code",
   "execution_count": 14,
   "metadata": {},
   "outputs": [],
   "source": [
    "PR = pl.read_parquet(files.pagerank_parquet_filename)\n",
    "PR_value = PR[\"value\"].to_numpy()"
   ]
  },
  {
   "cell_type": "markdown",
   "metadata": {
    "id": "y4duRjzABB9n"
   },
   "source": [
    "### Wikipedia article stats\n",
    "\n",
    "1. Load `disambig_arr`, a simple boolean array recording whether each article is a disambiguation or set-index page.\n",
    "2. Load `top_cite_domains`, the 1024 most commonly cited websites across all articles."
   ]
  },
  {
   "cell_type": "code",
   "execution_count": 15,
   "metadata": {},
   "outputs": [],
   "source": [
    "class Vec:\n",
    "    def __init__(self, dtype):\n",
    "        self.array = np.ndarray((1024,), dtype=dtype)\n",
    "        self.length = 0\n",
    "    \n",
    "    @property\n",
    "    def capacity(self):\n",
    "        return self.array.shape[0]\n",
    "\n",
    "    def append(self, v):\n",
    "        idx = self.length\n",
    "        if idx >= self.capacity:\n",
    "            addsz = max(2, self.capacity)\n",
    "            self.array = np.hstack((self.array, np.zeros((addsz,), dtype=self.array.dtype)))\n",
    "        self.array[idx] = v\n",
    "        self.length += 1"
   ]
  },
  {
   "cell_type": "code",
   "execution_count": 16,
   "metadata": {},
   "outputs": [],
   "source": [
    "def chunk(iterable, size):\n",
    "    \"\"\"Split an iterable into list chunks of size `n`.\n",
    "    \n",
    "    The last chunk can be fewer than `n` elements long, but it won't be empty.\n",
    "    \"\"\"\n",
    "    iterator = iter(iterable)\n",
    "    while True:\n",
    "        chunk = list(itertools.islice(iterator, size))\n",
    "        if chunk:\n",
    "            yield chunk\n",
    "        else:\n",
    "            return\n",
    "\n",
    "def lazy_chunk(iterable, n):\n",
    "    \"\"\"Split an iterable into iterable chunks of size `n`.\n",
    "    \n",
    "    The last chunk can be fewer than `n` elements long, but it won't be empty.\n",
    "    \"\"\"\n",
    "    iterator = iter(iterable)\n",
    "    while True:\n",
    "        try:\n",
    "            first = next(iterator)\n",
    "        except StopIteration:\n",
    "            return\n",
    "        yield itertools.chain([first], itertools.islice(iterator, n - 1))"
   ]
  },
  {
   "cell_type": "code",
   "execution_count": 14,
   "metadata": {},
   "outputs": [],
   "source": [
    "with open(files.disambig_arr_filename, \"rb\") as fp:\n",
    "    disambig_arr = np.load(fp)"
   ]
  },
  {
   "cell_type": "code",
   "execution_count": 15,
   "metadata": {},
   "outputs": [],
   "source": [
    "with open(files.top_cite_domains_filename, \"rb\") as fp:\n",
    "    top_cite_domains = cbor2.load(fp)"
   ]
  },
  {
   "cell_type": "code",
   "execution_count": 16,
   "metadata": {},
   "outputs": [
    {
     "data": {
      "application/vnd.jupyter.widget-view+json": {
       "model_id": "c6e2bfb8496043b5a47bc90040434480",
       "version_major": 2,
       "version_minor": 0
      },
      "text/plain": [
       "interactive(children=(Dropdown(description='page', options=(0, 1, 2, 3, 4, 5, 6, 7, 8, 9, 10, 11, 12, 13, 14, …"
      ]
     },
     "metadata": {},
     "output_type": "display_data"
    },
    {
     "data": {
      "text/plain": [
       "<function nbhelpers.polars.pager.<locals>.<lambda>(page)>"
      ]
     },
     "execution_count": 16,
     "metadata": {},
     "output_type": "execute_result"
    }
   ],
   "source": [
    "pager(pl.DataFrame(top_cite_domains, schema=['domain', 'count']), 16)"
   ]
  },
  {
   "cell_type": "code",
   "execution_count": 17,
   "metadata": {},
   "outputs": [
    {
     "data": {
      "application/vnd.jupyter.widget-view+json": {
       "model_id": "d9639025518141ddb45d063c069f7369",
       "version_major": 2,
       "version_minor": 0
      },
      "text/plain": [
       "interactive(children=(Text(value='', description='q'), Output()), _dom_classes=('widget-interact',))"
      ]
     },
     "metadata": {},
     "output_type": "display_data"
    },
    {
     "data": {
      "text/plain": [
       "<function nbhelpers.polars.searcher.<locals>.searcher_run(q)>"
      ]
     },
     "execution_count": 17,
     "metadata": {},
     "output_type": "execute_result"
    }
   ],
   "source": [
    "searcher(pl.DataFrame(top_cite_domains, schema=['domain', 'count'])\n",
    "          .with_columns(pl.Series(\"rank\", range(len(top_cite_domains)))),\n",
    "         [\"domain\"],\n",
    "         16)"
   ]
  },
  {
   "cell_type": "code",
   "execution_count": 18,
   "metadata": {},
   "outputs": [],
   "source": [
    "excluded_domains = {\"imgur.com\", \"twitter.com\", \"youtube.com\", \"soundcloud.com\",\n",
    "                    \"instagram.com\", \"amazon.com\", \"github.com\", \"vimeo.com\",\n",
    "                    \"google.com\"\n",
    "                   }\n",
    "top_cite_domain_set = {domain for domain, _ in top_cite_domains} - excluded_domains"
   ]
  },
  {
   "cell_type": "code",
   "execution_count": 19,
   "metadata": {},
   "outputs": [],
   "source": [
    "ORDER_TAG_BITS = 3\n",
    "NUM_ORDER_TAGS = 1 << ORDER_TAG_BITS\n",
    "DEST_ID_BITS = 31 - ORDER_TAG_BITS\n",
    "DEST_ID_MASK = (1 << DEST_ID_BITS) - 1\n",
    "@lru_cache(maxsize=1)\n",
    "def load_edges(partition):\n",
    "    with np.load(files.edge_filenames(NUM_PARTITIONS)[partition]) as npz:\n",
    "        return list(npz.values())"
   ]
  },
  {
   "cell_type": "code",
   "execution_count": 20,
   "metadata": {},
   "outputs": [],
   "source": [
    "with open(files.hatcheck_arr_filename, \"rb\") as fp:\n",
    "    hatcheck_arr = np.load(fp)"
   ]
  },
  {
   "cell_type": "code",
   "execution_count": 21,
   "metadata": {},
   "outputs": [],
   "source": [
    "@lru_cache(maxsize=1)\n",
    "def load_hatedges(partition):\n",
    "    return np.load(files.hatedge_filenames(NUM_PARTITIONS)[partition])"
   ]
  },
  {
   "cell_type": "code",
   "execution_count": 22,
   "metadata": {},
   "outputs": [
    {
     "data": {
      "text/plain": [
       "array([[  2297744, 268436150]], dtype=int32)"
      ]
     },
     "execution_count": 22,
     "metadata": {},
     "output_type": "execute_result"
    }
   ],
   "source": [
    "test_node_id = id_map[\"Apple\"]\n",
    "hatedges = load_hatedges(test_node_id >> LOG_PARTITION_SIZE)\n",
    "hatedges[hatedges[:, 0] == test_node_id]"
   ]
  },
  {
   "cell_type": "code",
   "execution_count": 23,
   "metadata": {},
   "outputs": [
    {
     "data": {
      "text/plain": [
       "True"
      ]
     },
     "execution_count": 23,
     "metadata": {},
     "output_type": "execute_result"
    }
   ],
   "source": [
    "hatcheck_arr[test_node_id]"
   ]
  },
  {
   "cell_type": "code",
   "execution_count": 24,
   "metadata": {},
   "outputs": [
    {
     "data": {
      "text/plain": [
       "0.04041496683034412"
      ]
     },
     "execution_count": 24,
     "metadata": {},
     "output_type": "execute_result"
    }
   ],
   "source": [
    "np.mean(hatcheck_arr)"
   ]
  },
  {
   "cell_type": "code",
   "execution_count": 25,
   "metadata": {},
   "outputs": [
    {
     "data": {
      "text/plain": [
       "(array([ 727464, 3996763, 1570075,  464329,  138221,   39372,    9888,\n",
       "           1835,     243,      28]),\n",
       " array([-27.65206063, -25.87570868, -24.09935674, -22.32300479,\n",
       "        -20.54665285, -18.7703009 , -16.99394896, -15.21759701,\n",
       "        -13.44124507, -11.66489312,  -9.88854118]))"
      ]
     },
     "execution_count": 25,
     "metadata": {},
     "output_type": "execute_result"
    }
   ],
   "source": [
    "PR_log_median = np.log2(np.median(PR_value))\n",
    "PR_log_min = np.log2(PR_value.min())\n",
    "np.histogram(np.log2(PR_value))"
   ]
  },
  {
   "cell_type": "code",
   "execution_count": 26,
   "metadata": {},
   "outputs": [
    {
     "data": {
      "text/plain": [
       "array([-27.65206063, -26.17317009, -25.90202733, -25.70059822,\n",
       "       -25.54323987, -25.40843763, -25.27974568, -25.14866965,\n",
       "       -25.01513404, -24.8778393 , -24.73476125, -24.58268015,\n",
       "       -24.41581675, -24.22717309, -24.00630736, -23.74329517,\n",
       "       -23.42036414, -23.00123184, -22.41142568, -21.40810571,\n",
       "        -9.88854118])"
      ]
     },
     "execution_count": 26,
     "metadata": {},
     "output_type": "execute_result"
    }
   ],
   "source": [
    "np.quantile(np.log2(PR_value), np.linspace(0, 1, 21))"
   ]
  },
  {
   "cell_type": "code",
   "execution_count": 27,
   "metadata": {},
   "outputs": [
    {
     "data": {
      "text/plain": [
       "-22.72821158856895"
      ]
     },
     "execution_count": 27,
     "metadata": {},
     "output_type": "execute_result"
    }
   ],
   "source": [
    "PR_log_mean = np.log2(PR_value.mean())\n",
    "PR_log_mean"
   ]
  },
  {
   "cell_type": "markdown",
   "metadata": {},
   "source": [
    "### Create SQLite database for token-string to Wikipedia article map\n",
    "\n",
    "- Occurrence of a normal article title: weight = 2\n",
    "- Occurrence of a title redirecting to a normal article: weight = 2\n",
    "  - In either case, up to 0.66 is redistributed to hatnotes linking to other articles if there are any\n",
    "    - weights = `(log2(PR_value) - PR_log_min)/2/(PR_log_mean - PR_log_min)`, normalized to sum 0.8 if over\n",
    "- Occurrence of a disambiguation article title: weight = 2 distributed to all articles linked from that page\n",
    "  - &lt;5 links: weights = `2*normalize(PR_value)`\n",
    "  - &ge;5 links: weights = `2*normalize(PR_value)` interpolated with `2*normalize(PR_value * [5,4,2,1,0,0,0,...])`, alpha = `min(0.75, log2(N-4)/8)` (halfway at 20 links, saturates at 60)\n",
    "    - This is because disambiguation pages for popular terms will usually have a 'most commonly referred to' section at the top, and they're more likely to have lots of links.\n",
    "\n",
    "#### Edge format (copied from PageRank)\n",
    "\n",
    "- `edges_{n}.pkl` stores the outgoing links from `PARITION_SIZE*n ..< PARTITION_SIZE*(n+1)`\n",
    "- These are stored in a list where element `i` contains the links out to `PARITION_SIZE*i ..< PARTITION_SIZE*(i+1)`"
   ]
  },
  {
   "cell_type": "code",
   "execution_count": 28,
   "metadata": {},
   "outputs": [],
   "source": [
    "nlp = English()"
   ]
  },
  {
   "cell_type": "code",
   "execution_count": 29,
   "metadata": {},
   "outputs": [
    {
     "data": {
      "application/vnd.jupyter.widget-view+json": {
       "model_id": "2e7abe43190f42e88976143d0c846a16",
       "version_major": 2,
       "version_minor": 0
      },
      "text/plain": [
       "  0%|          | 0/18217787 [00:00<?, ?it/s]"
      ]
     },
     "metadata": {},
     "output_type": "display_data"
    }
   ],
   "source": [
    "max_span_map = {}\n",
    "def tokens_to_term(tokens):\n",
    "    parts = [token.norm_ for token in tokens if not (token.is_left_punct or token.is_right_punct)]\n",
    "    if len(parts) > 0 and len(parts) > max_span_map.get(parts[0], -1):\n",
    "        max_span_map[parts[0]] = len(parts)\n",
    "    return \" \".join(parts)\n",
    "\n",
    "iterator = tqdm(itertools.chain(id_map.keys(), id_map2.keys()), total=len(id_map) + len(id_map2))\n",
    "terms_concat = pyarrow.array(\n",
    "    map(tokens_to_term, nlp.tokenizer.pipe(iterator)),\n",
    "    size=len(id_map) + len(id_map2)\n",
    ")"
   ]
  },
  {
   "cell_type": "code",
   "execution_count": 30,
   "metadata": {},
   "outputs": [],
   "source": [
    "term_table = pyarrow.table({\n",
    "    \"term\": terms_concat,\n",
    "    \"node_id\": pyarrow.array(\n",
    "        # todo construct at same time ^^\n",
    "        itertools.chain(id_map.values(), id_map2.values()),\n",
    "        size=len(id_map) + len(id_map2)\n",
    "    )\n",
    "})"
   ]
  },
  {
   "cell_type": "code",
   "execution_count": 31,
   "metadata": {},
   "outputs": [],
   "source": [
    "term_table = term_table.sort_by(\"term\")"
   ]
  },
  {
   "cell_type": "code",
   "execution_count": 32,
   "metadata": {},
   "outputs": [
    {
     "data": {
      "application/vnd.jupyter.widget-view+json": {
       "model_id": "2633f13ff015491db24a6f65409b91c3",
       "version_major": 2,
       "version_minor": 0
      },
      "text/plain": [
       "  0%|          | 0/18217787 [00:00<?, ?it/s]"
      ]
     },
     "metadata": {},
     "output_type": "display_data"
    }
   ],
   "source": [
    "def gen_weights():\n",
    "    iterator = zip(tqdm(term_table.columns[0]), term_table.columns[1])\n",
    "    for _, group in itertools.groupby(iterator, lambda e: e[0]):\n",
    "        node_ids = [n.as_py() for _, n in group]\n",
    "        _, unique_indices = np.unique(node_ids, return_index=True)\n",
    "        weights = np.zeros(len(node_ids), dtype=np.float64)\n",
    "        weights[unique_indices] = PR_value[node_ids][unique_indices]\n",
    "        weights /= weights.sum()\n",
    "        yield from weights\n",
    "\n",
    "weight_arr = pyarrow.array(gen_weights(), size=len(terms_concat))"
   ]
  },
  {
   "cell_type": "code",
   "execution_count": 33,
   "metadata": {},
   "outputs": [
    {
     "name": "stdout",
     "output_type": "stream",
     "text": [
      "Flushing output cache (10 entries)\n"
     ]
    }
   ],
   "source": [
    "%reset -f out"
   ]
  },
  {
   "cell_type": "code",
   "execution_count": 34,
   "metadata": {},
   "outputs": [],
   "source": [
    "term_table = term_table.add_column(2, \"weight\", weight_arr)"
   ]
  },
  {
   "cell_type": "code",
   "execution_count": 35,
   "metadata": {},
   "outputs": [],
   "source": [
    "term_table = term_table.sort_by(\"node_id\")"
   ]
  },
  {
   "cell_type": "code",
   "execution_count": 36,
   "metadata": {},
   "outputs": [],
   "source": [
    "pyarrow.parquet.write_table(term_table, files.enwiki_tokenized_arrow_filename)"
   ]
  },
  {
   "cell_type": "code",
   "execution_count": 37,
   "metadata": {},
   "outputs": [],
   "source": [
    "# term_table = pyarrow.parquet.read_table(files.enwiki_tokenized_arrow_filename)"
   ]
  },
  {
   "cell_type": "code",
   "execution_count": 38,
   "metadata": {},
   "outputs": [
    {
     "data": {
      "text/plain": [
       "pyarrow.Table\n",
       "term: string\n",
       "node_id: int64\n",
       "weight: double\n",
       "----\n",
       "term: [[\"apple i\",\"apple i character set\",\"apple i computer\",\"apple-1\",\"applet\",...,\"apples railway station\",\"apple cider vinegar tv series\",\"apple michigan avenue\",\"apple north michigan avenue\",\"apple search ads\"]]\n",
       "node_id: [[153,153,153,153,481,...,6907861,6910778,6920380,6920380,6947173]]\n",
       "weight: [[1,1,1,1,1,...,1,1,1,1,1]]"
      ]
     },
     "execution_count": 38,
     "metadata": {},
     "output_type": "execute_result"
    }
   ],
   "source": [
    "term_table.filter(pyarrow.compute.starts_with(term_table.columns[0], \"apple\"))"
   ]
  },
  {
   "cell_type": "code",
   "execution_count": 39,
   "metadata": {},
   "outputs": [],
   "source": [
    "engine = create_engine(files.enwiki_tokenized_database_uri)"
   ]
  },
  {
   "cell_type": "code",
   "execution_count": 40,
   "metadata": {},
   "outputs": [],
   "source": [
    "redis_engine = redis.Redis(\"127.0.0.1\")"
   ]
  },
  {
   "cell_type": "code",
   "execution_count": 41,
   "metadata": {},
   "outputs": [
    {
     "data": {
      "application/vnd.jupyter.widget-view+json": {
       "model_id": "15ef80e489c54e45a8aa96bea9fd8f72",
       "version_major": 2,
       "version_minor": 0
      },
      "text/plain": [
       "  0%|          | 0/18217787 [00:00<?, ?it/s]"
      ]
     },
     "metadata": {},
     "output_type": "display_data"
    }
   ],
   "source": [
    "def gen_assigned_weights():\n",
    "    table = term_table  #.filter(pyarrow.compute.starts_with(term_table.columns[0], \"apple\"))\n",
    "    iterator = zip(tqdm(table.columns[0]), table.columns[1], table.columns[2])\n",
    "    early_multipliers = np.array([1, 2, 4, 5])\n",
    "    for term_scalar, node_id_scalar, w_scalar in iterator:\n",
    "        term = term_scalar.as_py()\n",
    "        if term == \"\":\n",
    "            continue\n",
    "        w = w_scalar.as_py()\n",
    "        if w == 0:\n",
    "            continue\n",
    "        node_id = node_id_scalar.as_py()\n",
    "        if disambig_arr[node_id]:\n",
    "            partition = node_id >> LOG_PARTITION_SIZE\n",
    "            destinations = []\n",
    "            for pair_tbl in load_edges(partition):\n",
    "                destinations.append(pair_tbl[pair_tbl[:, 0] == node_id][:, 1])\n",
    "            destination_arr = np.hstack(destinations)\n",
    "            _, unique_inds = np.unique(destination_arr, return_index=True)\n",
    "            destination_arr = destination_arr[unique_inds]\n",
    "            # because of ORDER_TAG and unique sorting the top links are at the end\n",
    "            destination_arr &= DEST_ID_MASK\n",
    "            L = len(destination_arr)\n",
    "            alpha = min(0.75, np.log2(max(1, L-4))/8)\n",
    "            pr_valuel = PR_value[destination_arr]\n",
    "            pr_valuel_early = np.zeros_like(pr_valuel)\n",
    "            if L > 4:\n",
    "                pr_valuel_early[-4:] = pr_valuel[-4:] * early_multipliers\n",
    "                pr_valuel_early /= pr_valuel_early.sum()\n",
    "            pr_valuel /= pr_valuel.sum()\n",
    "            for dest_id, w1, w2 in zip(destination_arr, pr_valuel, pr_valuel_early):\n",
    "                yield (term, int(dest_id), 2.0 * (w1 + alpha*(w2-w1)))\n",
    "        elif hatcheck_arr[node_id]:\n",
    "            partition = node_id >> LOG_PARTITION_SIZE\n",
    "            pair_tbl = load_hatedges(partition)\n",
    "            destination_arr = pair_tbl[pair_tbl[:, 0] == node_id][:, 1]\n",
    "            destination_arr &= DEST_ID_MASK\n",
    "            destination_arr = destination_arr[~disambig_arr[destination_arr]]\n",
    "            pr_valuel = PR_value[destination_arr]\n",
    "            np.log2(pr_valuel, out=pr_valuel)\n",
    "            pr_valuel -= PR_log_min\n",
    "            pr_valuel /= 2 * (PR_log_mean - PR_log_min)\n",
    "            pr_valuel = 0.66 * pr_valuel / max(1.0, pr_valuel.sum())\n",
    "            leftover = 2.0 - pr_valuel.sum()\n",
    "            yield (term, node_id, leftover)\n",
    "            for dest_id, w in zip(destination_arr, pr_valuel):\n",
    "                yield (term, int(dest_id), w)\n",
    "        else:\n",
    "            yield (term, node_id, 2.0*w)\n",
    "\n",
    "# for chunk_number, gg in enumerate(chunk(gen_assigned_weights(), 10000)):\n",
    "#     pipe = redis_engine.pipeline()\n",
    "#     for term, node_id, weight in gg:\n",
    "#         pipe.zadd(term, v)\n",
    "#     pres = pipe.execute()\n",
    "\n",
    "compact_size = pkm.create(str, int)\n",
    "for chunk_number, gg in enumerate(chunk(gen_assigned_weights(), 10000)):\n",
    "    pipe = redis_engine.pipeline()\n",
    "    for term, node_id, weight in gg:\n",
    "        v = struct.pack(\"<If\", node_id, weight)\n",
    "        pipe.append(term, v)\n",
    "    pres = pipe.execute()\n",
    "    # for (term, _, _), size in zip(gg, pres):\n",
    "    #     if size > 4096 and size > 2 * compact_size.get(term, 0):\n",
    "    #         compacted = {}\n",
    "    #         for k, v in struct.iter_unpack(\"<If\", redis_engine.get(term)):\n",
    "    #             if (prev_val := compacted.get(k)) is not None:\n",
    "    #                 compacted[k] = max(prev_val, v)\n",
    "    #             else:\n",
    "    #                 compacted[k] = v\n",
    "    #         term_val = b\"\".join(struct.pack(\"<If\", k, v) for k, v in compacted.items())\n",
    "    #         redis_engine.set(term, term_val)\n",
    "    #         compact_size[term] = len(term_val)"
   ]
  },
  {
   "cell_type": "code",
   "execution_count": 42,
   "metadata": {},
   "outputs": [
    {
     "data": {
      "application/vnd.jupyter.widget-view+json": {
       "model_id": "40c2cc07b62c4eb7a3be92b6ac39f518",
       "version_major": 2,
       "version_minor": 0
      },
      "text/plain": [
       "0it [00:00, ?it/s]"
      ]
     },
     "metadata": {},
     "output_type": "display_data"
    }
   ],
   "source": [
    "import ctypes\n",
    "def compact(arg):\n",
    "    result = []\n",
    "    # ziplist_b: packed (node_id_0 weight_0 node_id_1 weight_1 ...)\n",
    "    for term, ziplist_b in arg:\n",
    "        # compacted[node_id] = max weight\n",
    "        compacted = {}\n",
    "        for k, v in struct.iter_unpack(\"<If\", ziplist_b):\n",
    "            if (prev_val := compacted.get(k)) is not None:\n",
    "                compacted[k] = max(prev_val, v)\n",
    "            else:\n",
    "                compacted[k] = v\n",
    "        buf = ctypes.create_string_buffer(8*len(compacted))\n",
    "        off = 0\n",
    "        for k, v in compacted.items():\n",
    "            struct.pack_into(\"<If\", buf, off, k, v)\n",
    "            off += 8\n",
    "        result.append(( term, buf.raw ))\n",
    "    return result\n",
    "\n",
    "with tqdm() as progress, ThreadPoolExecutor(max_workers=8) as executor:\n",
    "    cursor = 0\n",
    "    while True:\n",
    "        cursor, terms = redis_engine.scan(cursor=cursor, count=40000)\n",
    "        progress.update(len(terms))\n",
    "        data = redis_engine.mget(terms)\n",
    "        convertable = [(term, ziplist_b) for term, ziplist_b in zip(terms, data) if len(ziplist_b) > 8]\n",
    "        if len(convertable) > 0:\n",
    "            redis_engine.mset({k: v for lst in executor.map(compact, chunk(convertable, 100)) for k, v in lst})\n",
    "        if cursor == 0:\n",
    "            break"
   ]
  },
  {
   "cell_type": "code",
   "execution_count": 43,
   "metadata": {},
   "outputs": [],
   "source": [
    "with engine.begin() as conn:\n",
    "    conn.execute(sqltext(\"CREATE TABLE max_span_map (k TEXT NOT NULL, v INTEGER NOT NULL)\"))\n",
    "    stmt = sqltext(\"INSERT INTO max_span_map (k, v) VALUES (:k, :v)\")\n",
    "    for k, v in max_span_map.items():\n",
    "        conn.execute(stmt, {\"k\": k, \"v\": v})"
   ]
  },
  {
   "cell_type": "code",
   "execution_count": 44,
   "metadata": {},
   "outputs": [],
   "source": [
    "with engine.begin() as conn:\n",
    "    conn.execute(sqltext(\"CREATE TABLE top_domains (k TEXT NOT NULL, v INTEGER NOT NULL)\"))\n",
    "    stmt = sqltext(\"INSERT INTO top_domains (k, v) VALUES (:k, :v)\")\n",
    "    for k, v in top_cite_domains:\n",
    "        conn.execute(stmt, {\"k\": k, \"v\": int(v)})"
   ]
  },
  {
   "cell_type": "markdown",
   "metadata": {},
   "source": [
    "#### gen_assigned_weights time to complete\n",
    "\n",
    "| date | time |\n",
    "| :--- | :--- |\n",
    "| 2024-07-01 | 94min 40s\n",
    "| 2025-02-17 | 98min 18s"
   ]
  },
  {
   "cell_type": "code",
   "execution_count": 45,
   "metadata": {},
   "outputs": [
    {
     "data": {
      "text/plain": [
       "6948218"
      ]
     },
     "execution_count": 45,
     "metadata": {},
     "output_type": "execute_result"
    }
   ],
   "source": [
    "N"
   ]
  },
  {
   "cell_type": "markdown",
   "metadata": {},
   "source": [
    "### Evaluate reddit rank\n",
    "\n",
    "1. `services/pos_tagger` on the UMBC web dataset (TODO move this to redditscorer)\n",
    "    ```bash\n",
    "    python umbc_web/process_possf2.py /path/to/umbc_web/webbase_all\n",
    "\n",
    "    # in services/pos_tagger\n",
    "    cargo build --release\n",
    "    ./target/release/pos_tagger <PORT> /path/to/write/model.json\n",
    "\n",
    "    find /path/to/umbc_web/webbase_all -name \\*.ldjson |\n",
    "        shuf |\n",
    "        { while read G; do\n",
    "          F=/tmp/umbc;\n",
    "          zstdcat \"$G\" > \"$F\";\n",
    "          stat -c %s \"$F\" |\n",
    "          python -c 'import struct,sys; sys.stdout.buffer.write(struct.pack(\">2I\", int(input()), 1))';\n",
    "          cat \"$F\";\n",
    "          done\n",
    "        } |\n",
    "        nc localhost <PORT>\n",
    "    ```\n",
    "\n",
    "2. Use the `redditscorer` service\n",
    "\n",
    "```bash\n",
    "# from wikiplain repo root, with venv activated\n",
    "cargo build --package=redditscorer --release\n",
    "./target/release/redditscorer score -i '/media/dylan/smplcache/caps/data/reddit/reddit/submissions/RS*.zst' --db ~/Downloads/enwiki/20240401/enwiki_tokenized_20240401.sqlite --pos ~/Downloads/umbc_webbase/pos_tagger_model.json --size 6806227 -o /home/dylan/Downloads/enwiki/20240401/redditrank/ 2> >(tee /tmp/reddditscorer)\n",
    "```"
   ]
  },
  {
   "cell_type": "code",
   "execution_count": 17,
   "metadata": {},
   "outputs": [],
   "source": [
    "summary_included = np.zeros(N, dtype=np.bool_)\n",
    "relevance = np.zeros(N, dtype=np.float32)\n",
    "rel_files = glob.glob(files.reddit_relevance_filename_pattern)\n",
    "for idx, filename in enumerate(sorted(rel_files)):\n",
    "    with open(filename, \"rb\") as fp:\n",
    "        relevance += np.load(fp)\n",
    "    if (len(rel_files) - 1 - idx) % 3 == 0:\n",
    "        ranks = np.zeros(N, dtype=np.int32)\n",
    "        ranks[np.argsort(relevance)] = N - np.arange(N)\n",
    "        summary_included |= ranks <= 80000\n",
    "        relevance[:] = 0.0"
   ]
  },
  {
   "cell_type": "code",
   "execution_count": 18,
   "metadata": {},
   "outputs": [],
   "source": [
    "summary_index = np.where(summary_included, np.cumsum(summary_included) - 1, -1)"
   ]
  },
  {
   "cell_type": "code",
   "execution_count": 19,
   "metadata": {},
   "outputs": [
    {
     "data": {
      "text/plain": [
       "array([-1, -1, -1, ..., -1, -1, -1])"
      ]
     },
     "execution_count": 19,
     "metadata": {},
     "output_type": "execute_result"
    }
   ],
   "source": [
    "summary_index"
   ]
  },
  {
   "cell_type": "code",
   "execution_count": 20,
   "metadata": {},
   "outputs": [
    {
     "data": {
      "text/plain": [
       "345916"
      ]
     },
     "execution_count": 20,
     "metadata": {},
     "output_type": "execute_result"
    }
   ],
   "source": [
    "summary_included.sum()"
   ]
  },
  {
   "cell_type": "code",
   "execution_count": 21,
   "metadata": {},
   "outputs": [],
   "source": [
    "summary_ranks = np.zeros((summary_included.sum(), 0))\n",
    "date_ser = []\n",
    "relevance = np.zeros(N)\n",
    "relevance_3m = np.zeros(N)\n",
    "for idx, filename in enumerate(sorted(glob.glob(files.reddit_relevance_filename_pattern))):\n",
    "    with open(filename, \"rb\") as fp:\n",
    "        arr = np.load(fp)\n",
    "        if not np.alltrue(~np.isnan(arr)):\n",
    "            print(f\"mv '{filename}' '{filename.replace('RS_', 'x_RS_')}'\")\n",
    "        relevance += arr\n",
    "        relevance_3m += arr\n",
    "    if (len(rel_files) - 1 - idx) % 3 == 0:\n",
    "        year_month = re.search(r\"RS_([0-9]{4}-[0-9]{2})\", filename).group(1)\n",
    "        date_ser.append(np.datetime64(year_month + '-01T00:00:00'))\n",
    "        ranks = np.zeros(N, dtype=np.int32)\n",
    "        ranks[np.argsort(relevance_3m)] = N - np.arange(N)\n",
    "        summary_ranks = np.hstack((summary_ranks, ranks[summary_included, np.newaxis]))\n",
    "        relevance_3m[:] = 0.0"
   ]
  },
  {
   "cell_type": "code",
   "execution_count": 22,
   "metadata": {},
   "outputs": [
    {
     "name": "stdout",
     "output_type": "stream",
     "text": [
      "Flushing output cache (4 entries)\n"
     ]
    }
   ],
   "source": [
    "%reset -f out"
   ]
  },
  {
   "cell_type": "code",
   "execution_count": 23,
   "metadata": {},
   "outputs": [],
   "source": [
    "%matplotlib inline"
   ]
  },
  {
   "cell_type": "code",
   "execution_count": 24,
   "metadata": {},
   "outputs": [],
   "source": [
    "%config InlineBackend.figure_formats = ['png']"
   ]
  },
  {
   "cell_type": "code",
   "execution_count": 25,
   "metadata": {},
   "outputs": [],
   "source": [
    "sns.set_theme()\n",
    "sns.set_context(\"paper\")"
   ]
  },
  {
   "cell_type": "markdown",
   "metadata": {},
   "source": [
    "#### Chart inputs"
   ]
  },
  {
   "cell_type": "code",
   "execution_count": 56,
   "metadata": {},
   "outputs": [],
   "source": [
    "STATES = [\n",
    "    'Alabama', 'Alaska', 'Arizona', 'Arkansas', 'California',\n",
    "    'Colorado', 'Connecticut', 'Delaware', 'Florida', 'Georgia (U.S. state)',\n",
    "    'Hawaii', 'Idaho', 'Illinois', 'Indiana', 'Iowa',\n",
    "    'Kansas', 'Kentucky', 'Louisiana', 'Maine', 'Maryland',\n",
    "    'Massachusetts', 'Michigan', 'Minnesota', 'Mississippi', 'Missouri',\n",
    "    'Montana', 'Nebraska', 'Nevada', 'New Hampshire', 'New Jersey',\n",
    "    'New Mexico', 'New York (state)', 'North Carolina', 'North Dakota', 'Ohio',\n",
    "    'Oklahoma', 'Oregon', 'Pennsylvania', 'Rhode Island', 'South Carolina',\n",
    "    'South Dakota', 'Tennessee', 'Texas', 'Utah', 'Vermont',\n",
    "    'Virginia', 'Washington (state)', 'West Virginia', 'Wisconsin', 'Wyoming',\n",
    "]\n",
    "CITIES_SUMMER = [\n",
    "    \"Athens\", \"Paris\", \"St. Louis\", \"London\", \"Stockholm\", \"Berlin\",\n",
    "    \"Antwerp\", \"Amsterdam\", \"Los Angeles\", \"Helsinki\", \"Melbourne\",\n",
    "    \"Rome\", \"Tokyo\", \"Mexico City\", \"Munich\", \"Montreal\", \"Seoul\",\n",
    "    \"Barcelona\", \"Atlanta\", \"Sydney\", \"Beijing\", \"Rio de Janeiro\",\n",
    "]\n",
    "NYC_NEIGHBORHOODS_ALL = [\n",
    "    \"Marble Hill, Manhattan\",\n",
    "    \"Inwood, Manhattan\",\n",
    "    \"Fort George (New York)\",\n",
    "    \"Washington Heights, Manhattan\",\n",
    "    \"Hudson Heights, Manhattan\",\n",
    "    \"Harlem\",\n",
    "    \"Hamilton Heights, Manhattan\",\n",
    "    \"Manhattanville, Manhattan\",\n",
    "    \"Morningside Heights\",\n",
    "    # \"St. Nicholas Historic District\",\n",
    "    # \"Astor Row\",\n",
    "    \"Sugar Hill, Manhattan\",\n",
    "    # \"Marcus Garvey Park\",\n",
    "    # \"Mount Morris Park Historic District\",\n",
    "    # \"Le Petit Senegal\",\n",
    "    \"East Harlem\",\n",
    "    \"Upper East Side\",\n",
    "    \"Lenox Hill\",\n",
    "    \"Carnegie Hill\",\n",
    "    \"Yorkville, Manhattan\",\n",
    "    \"Upper West Side\",\n",
    "    \"Manhattan Valley\",\n",
    "    \"Lincoln Square, Manhattan\",\n",
    "    \"Columbus Circle\",\n",
    "    # \"Sutton Place, Manhattan\",\n",
    "    # \"Rockefeller Center\",\n",
    "    # \"47th Street (Manhattan)\",\n",
    "    \"Theater District, Manhattan\",\n",
    "    \"Turtle Bay, Manhattan\",\n",
    "    \"Tudor City\",\n",
    "    \"Little Brazil, Manhattan\",\n",
    "    \"Times Square\",\n",
    "    \"Hudson Yards, Manhattan\",\n",
    "    \"Hell's Kitchen, Manhattan\",\n",
    "    \"Garment District, Manhattan\",\n",
    "    \"Herald Square\",\n",
    "    \"Koreatown, Manhattan\",\n",
    "    \"Murray Hill, Manhattan\",\n",
    "    # \"Kalustyan's\",\n",
    "    \"Tenderloin, Manhattan\",\n",
    "    # \"Madison Square\",\n",
    "    \"Kips Bay, Manhattan\",\n",
    "    \"Rose Hill, Manhattan\",\n",
    "    \"NoMad, Manhattan\",\n",
    "    # \"Gas House district\",\n",
    "    \"Chelsea, Manhattan\",\n",
    "    \"Flatiron District\",\n",
    "    \"Gramercy Park\",\n",
    "    \"Stuyvesant Square\",\n",
    "    \"Union Square, Manhattan\",\n",
    "    \"Stuyvesant Town–Peter Cooper Village\",\n",
    "    \"Meatpacking District, Manhattan\",\n",
    "    \"Waterside Plaza\",\n",
    "    \"Little Germany, Manhattan\",\n",
    "    \"Alphabet City, Manhattan\",\n",
    "    \"East Village, Manhattan\",\n",
    "    \"Greenwich Village\",\n",
    "    \"NoHo, Manhattan\",\n",
    "    \"Bowery\",\n",
    "    \"West Village\",\n",
    "    \"Lower East Side\",\n",
    "    \"SoHo, Manhattan\",\n",
    "    \"Nolita\",\n",
    "    \"Little Australia\",\n",
    "    \"Little Italy, Manhattan\",\n",
    "    \"Chinatown, Manhattan\",\n",
    "    \"Financial District, Manhattan\",\n",
    "    \"Five Points, Manhattan\",\n",
    "    \"Cooperative Village\",\n",
    "    \"Two Bridges, Manhattan\",\n",
    "    \"Tribeca\",\n",
    "    \"Civic Center, Manhattan\",\n",
    "    # \"Radio Row\",\n",
    "    # \"South Street Seaport\",\n",
    "    \"Battery Park City\",\n",
    "    # \"Little Syria\"\n",
    "\n",
    "    \"Crown Heights, Brooklyn\",\n",
    "    \"Weeksville, Brooklyn\",\n",
    "    \"Flatbush\",\n",
    "    \"Beverley Squares\",\n",
    "    \"Ditmas Park, Brooklyn\",\n",
    "    \"East Flatbush, Brooklyn\",\n",
    "    \"Fiske Terrace, Brooklyn\",\n",
    "    \"Wingate, Brooklyn\",\n",
    "    \"Prospect Park (Brooklyn)\",\n",
    "    \"Prospect Lefferts Gardens\",\n",
    "    \"Prospect Park South\",\n",
    "    \"Windsor Terrace, Brooklyn\",\n",
    "    \"Kensington, Brooklyn\",\n",
    "    \"Ocean Parkway (Brooklyn)\",\n",
    "    \"Brownsville, Brooklyn\",\n",
    "    \"Canarsie, Brooklyn\",\n",
    "    \"East New York, Brooklyn\",\n",
    "    \"Spring Creek, Brooklyn\",\n",
    "    \"Starrett City\",\n",
    "    \"Bedford–Stuyvesant, Brooklyn\",\n",
    "    \"Ocean Hill, Brooklyn\",\n",
    "    \"Bushwick, Brooklyn\",\n",
    "    \"Wyckoff Heights, New York City\",\n",
    "    \"East Williamsburg, Brooklyn\",\n",
    "    \"Greenpoint, Brooklyn\",\n",
    "    \"Williamsburg, Brooklyn\",\n",
    "    \"Brooklyn Heights\",\n",
    "    \"Brooklyn Navy Yard\",\n",
    "    \"Admiral's Row\",\n",
    "    \"Cadman Plaza\",\n",
    "    \"Clinton Hill, Brooklyn\",\n",
    "    \"Downtown Brooklyn\",\n",
    "    \"Bridge Plaza, Brooklyn\",\n",
    "    \"Dumbo, Brooklyn\",\n",
    "    \"Fulton Ferry, Brooklyn\",\n",
    "    \"Fort Greene, Brooklyn\",\n",
    "    \"Prospect Heights, Brooklyn\",\n",
    "    \"Pacific Park, Brooklyn\",\n",
    "    \"Vinegar Hill, Brooklyn\",\n",
    "    \"South Brooklyn\",\n",
    "    \"Boerum Hill\",\n",
    "    \"Carroll Gardens, Brooklyn\",\n",
    "    \"Columbia Street Waterfront District\",\n",
    "    \"Cobble Hill, Brooklyn\",\n",
    "    \"Gowanus, Brooklyn\",\n",
    "    \"Park Slope\",\n",
    "    \"Greenwood Heights, Brooklyn\",\n",
    "    \"Park Slope Village\",\n",
    "    \"Red Hook, Brooklyn\",\n",
    "    \"Barren Island, Brooklyn\",\n",
    "    \"Bergen Beach, Brooklyn\",\n",
    "    \"Coney Island\",\n",
    "    \"Brighton Beach\",\n",
    "    \"Manhattan Beach, Brooklyn\",\n",
    "    \"Sea Gate, Brooklyn\",\n",
    "    \"Sheepshead Bay, Brooklyn\",\n",
    "    \"Homecrest, Brooklyn\",\n",
    "    \"Midwood, Brooklyn\",\n",
    "    \"Flatlands, Brooklyn\",\n",
    "    \"Gerritsen Beach, Brooklyn\",\n",
    "    \"Gravesend, Brooklyn\",\n",
    "    \"Marine Park (neighborhood), Brooklyn\",\n",
    "    \"Mill Basin, Brooklyn\",\n",
    "    \"Plumb Beach, Brooklyn\",\n",
    "    \"Bay Ridge, Brooklyn\",\n",
    "    \"Fort Hamilton\",\n",
    "    \"Bensonhurst, Brooklyn\",\n",
    "    \"Bath Beach, Brooklyn\",\n",
    "    \"New Utrecht, Brooklyn\",\n",
    "    \"Borough Park, Brooklyn\",\n",
    "    \"Mapleton, Brooklyn\",\n",
    "    \"Dyker Heights, Brooklyn\",\n",
    "    \"Sunset Park, Brooklyn\",\n",
    "\n",
    "    \"Astoria, Queens\",\n",
    "    # \"Astoria Heights, Queens\",\n",
    "    # \"Ditmars, Queens\",\n",
    "    # \"Steinway, Queens\",\n",
    "    # \"Little Egypt, Astoria\",\n",
    "    \"Long Island City\",\n",
    "    # \"Blissville, Queens\",\n",
    "    # \"Hunters Point, Queens\",\n",
    "    # \"Dutch Kills, Queens\",\n",
    "    # \"Queensbridge Houses\",\n",
    "    \"Queens West\",\n",
    "    # \"Ravenswood, Queens\",\n",
    "    \"Sunnyside, Queens\",\n",
    "    \"Sunnyside Gardens, Queens\",\n",
    "    \"Woodside, Queens\",\n",
    "    \"Little Manila\",\n",
    "    # \"Boulevard Gardens Apartments\",\n",
    "    \"The Hole, New York City\",\n",
    "    \"Howard Beach\",\n",
    "    # \"Hamilton Beach, Queens\",\n",
    "    # \"Howard Park, Queens\",\n",
    "    # \"Lindenwood, Queens\",\n",
    "    # \"Old Howard Beach, Queens\",\n",
    "    # \"Ramblersville, Queens\",\n",
    "    # \"Rockwood Park, Queens\",\n",
    "    \"Ozone Park\",\n",
    "    # \"South Ozone Park, Queens\",\n",
    "    # \"Tudor Village, Queens\",\n",
    "    \"Richmond Hill, Queens\",\n",
    "    \"Woodhaven, Queens\",\n",
    "    \"Briarwood, Queens\",\n",
    "    \"Corona, Queens\",\n",
    "    \"LeFrak City\",\n",
    "    # \"North Corona, Queens\",\n",
    "    \"East Elmhurst, Queens\",\n",
    "    # \"LaGuardia Airport\",\n",
    "    \"Elmhurst, Queens\",\n",
    "    \"Forest Hills, Queens\",\n",
    "    # \"Forest Hills Gardens, Queens\",\n",
    "    \"Fresh Pond, Queens\",\n",
    "    \"Glendale, Queens\",\n",
    "    \"Jackson Heights\",\n",
    "    \"Kew Gardens, Queens\",\n",
    "    \"Maspeth, Queens\",\n",
    "    \"Middle Village, Queens\",\n",
    "    \"Rego Park\",\n",
    "    \"Ridgewood, Queens\",\n",
    "    \"Wyckoff Heights, New York City\",\n",
    "    \"Bayside, Queens\",\n",
    "    \"Bay Terrace, Queens\",\n",
    "    # \"Bayside Hills, Queens\",\n",
    "    \"Fort Totten (Queens)\",\n",
    "    # \"Oakland Gardens, Queens\",\n",
    "    \"Bellerose, Queens\",\n",
    "    \"College Point\",\n",
    "    \"Douglaston–Little Neck, Queens\",\n",
    "    # \"Douglaston, Queens\",\n",
    "    # \"Douglas Bay, Queens\",\n",
    "    # \"Douglas Manor, Queens\",\n",
    "    # \"Douglaston Hill, Queens\",\n",
    "    # \"Douglaston Park, Queens\",\n",
    "    # \"Winchester Estates, Queens\",\n",
    "    # \"Little Neck, Queens\",\n",
    "    # \"Pines, Queens\",\n",
    "    # \"Little Neck Hills, Queens\",\n",
    "    # \"Westmoreland, Queens\",\n",
    "    \"Flushing, Queens\",\n",
    "    \"Broadway–Flushing, Queens\",\n",
    "    # \"Bowne Park, Queens\",\n",
    "    # \"Chinatown, Flushing\",\n",
    "    \"Koreatown, Queens\",\n",
    "    # \"Linden Hill, Queens\",\n",
    "    # \"Murray Hill, Queens\",\n",
    "    \"Willets Point\",\n",
    "    \"Pomonok, Queens\",\n",
    "    # \"Electchester, Queens\",\n",
    "    # \"Queensboro Hill, Queens\",\n",
    "    \"Floral Park, New York\",\n",
    "    \"Auburndale, Queens\",\n",
    "    \"Kew Gardens Hills, Queens\",\n",
    "    \"Parkway Village (Queens)\",\n",
    "    \"Fresh Meadows, Queens\",\n",
    "    # \"Hillcrest, Queens\",\n",
    "    # \"Utopia, Queens\",\n",
    "    \"Glen Oaks, Queens\",\n",
    "    \"North Shore Towers\",\n",
    "    \"Whitestone, Queens\",\n",
    "    \"Beechhurst, Queens\",\n",
    "    # \"Malba, Queens\",\n",
    "    # \"Bellaire, Queens\",\n",
    "    # \"Brookville, Queens\",\n",
    "    \"Cambria Heights, Queens\",\n",
    "    \"Hollis, Queens\",\n",
    "    # \"Hollis Hills, Queens\",\n",
    "    \"Holliswood, Queens\",\n",
    "    \"Jamaica, Queens\",\n",
    "    \"Jamaica Estates, Queens\",\n",
    "    \"Jamaica Hills, Queens\",\n",
    "    \"South Jamaica, Queens\",\n",
    "    \"Rochdale Village, Queens\",\n",
    "    \"St. Albans, Queens\",\n",
    "    \"Laurelton, Queens\",\n",
    "    \"Queens Village, Queens\",\n",
    "    \"Rosedale, Queens\",\n",
    "    \"Meadowmere, Queens\",\n",
    "    # \"Warnerville, Queens\",\n",
    "    \"Springfield Gardens, Queens\",\n",
    "    \"Rockaway, Queens\",\n",
    "    \"Arverne, Queens\",\n",
    "    \"Bayswater, Queens\",\n",
    "    \"Belle Harbor, Queens\",\n",
    "    \"Breezy Point, Queens\",\n",
    "    \"Broad Channel, Queens\",\n",
    "    \"Edgemere, Queens\",\n",
    "    \"Far Rockaway\",\n",
    "    \"Hammels, Queens\",\n",
    "    \"Neponsit, Queens\",\n",
    "    \"Rockaway Beach, Queens\",\n",
    "    \"Rockaway Park\",\n",
    "    \"Roxbury, Queens\",\n",
    "    \"Seaside, Queens\"\n",
    "]\n",
    "\n",
    "ATHLETES = [\n",
    "    \"Roger Federer\",\n",
    "    \"LeBron James\",\n",
    "    \"Lewis Hamilton\",\n",
    "    \"Andre Agassi\",\n",
    "    \"Michael Jordan\",\n",
    "    \"Tom Brady\",\n",
    "    \"Mike Tyson\",\n",
    "    \"Bill Russell\",\n",
    "    \"Tiger Woods\",\n",
    "    \"Stephen Curry\",\n",
    "    \"Kevin Durant\",\n",
    "    \"Larry Bird\",\n",
    "    \"Wayne Gretzky\",\n",
    "    \"Magic Johnson\",\n",
    "    \"Kobe Bryant\",\n",
    "    \"Michael Phelps\",\n",
    "    \"Jackie Robinson\",\n",
    "    \"Shaquille O'Neal\",\n",
    "    \"Muhammad Ali\",\n",
    "    \"Serena Williams\",\n",
    "    \"Pelé\",\n",
    "    \"Diego Maradona\",\n",
    "    \"Garry Kasparov\",\n",
    "    \"Jack Nicklaus\",\n",
    "    \"Kareem Abdul-Jabbar\",\n",
    "    \"Max Verstappen\",\n",
    "    \"Andy Murray\",\n",
    "    \"Babe Ruth\",\n",
    "    \"Alex Rodriguez\",\n",
    "    \"Cristiano Ronaldo\",\n",
    "    \"Lionel Messi\",\n",
    "    \"Wayne Rooney\",\n",
    "    \"Novak Djokovic\",\n",
    "    \"Peyton Manning\",\n",
    "    \"Rafael Nadal\",\n",
    "    \"Usain Bolt\",\n",
    "    \"Rory McIlroy\",\n",
    "    \"Zlatan Ibrahimović\",\n",
    "    \"Venus Williams\",\n",
    "    \"Phil Mickelson\",\n",
    "    \"Brett Favre\",\n",
    "    \"Neymar\",\n",
    "    \"Ichiro Suzuki\",\n",
    "    \"Abby Wambach\",\n",
    "    \"Steffi Graf\",\n",
    "    \"Danielle de Rossi\",\n",
    "    \"Jerry Rice\",\n",
    "    \"Rob Gronkowski\",\n",
    "    \"Lance Armstrong\",\n",
    "    \"Floyd Mayweather Jr.\",\n",
    "    \"Ronaldinho\",\n",
    "    \"Bobby Fischer\",\n",
    "    \"Giannis Antetokounmpo\",\n",
    "    \"Mia Hamm\",\n",
    "    \"Sammy Sosa\",\n",
    "    \"Deion Sanders\",\n",
    "    \"Dale Earnhardt\",\n",
    "    \"Sidney Crosby\",\n",
    "    \"Megan Rapinoe\",\n",
    "    \"Manny Pacquiao\",\n",
    "    \"Diana Taurasi\",\n",
    "    \"Alexander Ovechkin\",\n",
    "    \"Sue Bird\",\n",
    "    \"Hope Solo\",\n",
    "    \"Bobby Orr\",\n",
    "    \"Shohei Ohtani\",\n",
    "    \"Simone Biles\",\n",
    "    \"Maya Moore\",\n",
    "    \"Breanna Stewart\",\n",
    "    \"Evander Holyfield\",\n",
    "    \"Kurt Busch\",\n",
    "    \"Katie Ledecky\",\n",
    "    \"Caitlin Clark\",\n",
    "    \"Mikaela Shiffrin\",\n",
    "    \"Lindsey Vonn\",\n",
    "    \"Ted Ligety\",\n",
    "    \"Bode Miller\",\n",
    "    \"Shaun White\",\n",
    "    \"Tony Hawk\",\n",
    "    \"Nastia Liukin\",\n",
    "    \"Aly Raisman\",\n",
    "    \"Charles Barkley\",\n",
    "]\n",
    "\n",
    "WONDERS = [\n",
    "    \"Great Pyramid of Giza\",\n",
    "    \"Colossus of Rhodes\",\n",
    "    \"Hanging Gardens of Babylon\",\n",
    "    \"Lighthouse of Alexandria\",\n",
    "    \"Catacombs of Kom El Shoqafa\",\n",
    "    \"Colosseum\",\n",
    "    \"Great Wall of China\",\n",
    "    \"Hagia Sophia\",\n",
    "    \"Leaning Tower of Pisa\",\n",
    "    \"Porcelain Tower of Nanjing\",\n",
    "    \"Stonehenge\",\n",
    "    \"Petra\",\n",
    "    \"Christ the Redeemer\",\n",
    "    \"Machu Picchu\",\n",
    "    \"Chichen Itza\",\n",
    "    \"Taj Mahal\",\n",
    "    \"Golden Gate Bridge\",\n",
    "    \"Grand Canyon\",\n",
    "    \"Great Barrier Reef\",\n",
    "    \"Guanabara Bay\",\n",
    "    \"Mount Everest\",\n",
    "    \"Parícutin\",\n",
    "    \"Victoria Falls\",\n",
    "    \"Niagara Falls\",\n",
    "    \"Angkor Wat\"\n",
    "]"
   ]
  },
  {
   "cell_type": "code",
   "execution_count": 57,
   "metadata": {},
   "outputs": [
    {
     "data": {
      "text/plain": [
       "(82, 82)"
      ]
     },
     "execution_count": 57,
     "metadata": {},
     "output_type": "execute_result"
    }
   ],
   "source": [
    "len(set(ATHLETES)), len(ATHLETES)"
   ]
  },
  {
   "cell_type": "code",
   "execution_count": 58,
   "metadata": {},
   "outputs": [
    {
     "data": {
      "application/vnd.jupyter.widget-view+json": {
       "model_id": "77499025591e4eceaee687138f3c016e",
       "version_major": 2,
       "version_minor": 0
      },
      "text/plain": [
       "interactive(children=(Dropdown(description='page', options=(0, 1, 2, 3, 4, 5, 6, 7, 8, 9, 10, 11, 12, 13, 14, …"
      ]
     },
     "metadata": {},
     "output_type": "display_data"
    },
    {
     "data": {
      "text/plain": [
       "<function nbhelpers.polars.pager.<locals>.<lambda>(page)>"
      ]
     },
     "execution_count": 58,
     "metadata": {},
     "output_type": "execute_result"
    }
   ],
   "source": [
    "node_id_lst = [id_map[k] for k in NYC_NEIGHBORHOODS_ALL]\n",
    "pager(\n",
    "    PR.with_row_count(name=\"node_id\").filter(pl.col(\"node_id\").is_in(node_id_lst)).sort(\"value\", descending=True),\n",
    "    10\n",
    ")"
   ]
  },
  {
   "cell_type": "code",
   "execution_count": 59,
   "metadata": {},
   "outputs": [],
   "source": [
    "NYC_NEIGHBORHOODS = PR.with_row_count(name=\"node_id\").filter(pl.col(\"node_id\").is_in(node_id_lst)).sort(\"value\", descending=True).slice(0, 80)[\"title\"].to_list()"
   ]
  },
  {
   "cell_type": "markdown",
   "metadata": {},
   "source": [
    "#### Charts"
   ]
  },
  {
   "cell_type": "code",
   "execution_count": 60,
   "metadata": {},
   "outputs": [],
   "source": [
    "time_points = len(date_ser)"
   ]
  },
  {
   "cell_type": "code",
   "execution_count": 61,
   "metadata": {},
   "outputs": [],
   "source": [
    "def resolve_summary_ids(chart_keys_q):\n",
    "    chart_keys = []\n",
    "    chart_ids = []\n",
    "    for k in chart_keys_q:\n",
    "        if k not in id_map:\n",
    "            print(\"Not found:\", k)\n",
    "            continue\n",
    "        summary_id = summary_index[id_map[k]]\n",
    "        if summary_id == -1:\n",
    "            print(\"Outside top 10K:\", k)\n",
    "            continue\n",
    "        chart_keys.append(k)\n",
    "        chart_ids.append(summary_id)\n",
    "    return chart_keys, chart_ids\n",
    "\n",
    "def show_chart(query):\n",
    "    chart_keys_q = query.split('|')\n",
    "    chart_keys, chart_ids = resolve_summary_ids(chart_keys_q)\n",
    "    if len(chart_ids) == 0:\n",
    "        return\n",
    "    chart_summary = summary_ranks[chart_ids]\n",
    "    fig, ax = plt.subplots(figsize=(11, 6))\n",
    "    sns.lineplot(x=np.repeat([date_ser], chart_summary.shape[0], axis=0).flatten(),\n",
    "                 y=chart_summary.flatten(),\n",
    "                 hue=np.repeat(np.array(chart_keys), time_points),\n",
    "                 legend=\"full\",\n",
    "                 ax=ax)\n",
    "    sns.move_legend(ax, \"upper left\", bbox_to_anchor=(1, 1))\n",
    "    plt.yscale('log')\n",
    "    ax.set_ylim([1, 100000])\n",
    "    ax.invert_yaxis()\n",
    "\n",
    "def show_comparison_chart(query):\n",
    "    chart_keys_q = query.split('|')\n",
    "    chart_keys, chart_ids = resolve_summary_ids(chart_keys_q)\n",
    "    if len(chart_ids) == 0:\n",
    "        return\n",
    "    chart_summary = summary_ranks[chart_ids]\n",
    "    chart_ranks = np.zeros_like(chart_summary, dtype=np.int64)\n",
    "    np.put_along_axis(chart_ranks,\n",
    "                      chart_summary.argsort(axis=0),\n",
    "                      1 + np.repeat(np.arange(chart_summary.shape[0])[:, np.newaxis], time_points, axis=1),\n",
    "                      0)\n",
    "    fig, ax = plt.subplots(figsize=(11, 3))\n",
    "    ax = sns.lineplot(x=np.repeat([date_ser], chart_summary.shape[0], axis=0).flatten(),\n",
    "                      y=chart_ranks.flatten(),\n",
    "                      hue=np.repeat(np.array(chart_keys), time_points),\n",
    "                      legend=\"full\",\n",
    "                      ax=ax,\n",
    "                      linewidth=3)\n",
    "    sns.move_legend(ax, \"upper left\", bbox_to_anchor=(1, 1))\n",
    "    ax.set_yticks(np.arange(1, chart_summary.shape[0] + 1, dtype=int))\n",
    "    ax.invert_yaxis()"
   ]
  },
  {
   "cell_type": "code",
   "execution_count": 63,
   "metadata": {},
   "outputs": [
    {
     "data": {
      "image/png": "[encoded data removed]",
      "text/plain": [
       "<Figure size 1100x1200 with 1 Axes>"
      ]
     },
     "metadata": {},
     "output_type": "display_data"
    }
   ],
   "source": [
    "chart_keys, chart_ids = resolve_summary_ids(STATES)\n",
    "chart_summary = summary_ranks[chart_ids]\n",
    "chart_ranks = np.zeros_like(chart_summary, dtype=np.int64)\n",
    "np.put_along_axis(chart_ranks,\n",
    "                  chart_summary.argsort(axis=0),\n",
    "                  1 + np.repeat(np.arange(chart_summary.shape[0])[:, np.newaxis], time_points, axis=1),\n",
    "                  0)\n",
    "chart_summary_order = chart_ranks[:, -1].argsort()\n",
    "chart_ranks = chart_ranks[chart_summary_order]\n",
    "chart_keys = np.array(chart_keys)[chart_summary_order].tolist()\n",
    "fig, ax = plt.subplots(figsize=(11, len(chart_keys) // 4))\n",
    "ax = sns.heatmap(chart_ranks,\n",
    "                 xticklabels=[dt.astype(datetime).strftime(\"%b %y\") for dt in date_ser],\n",
    "                 yticklabels=chart_keys,\n",
    "                 ax=ax,\n",
    "                 cmap='flare',\n",
    "                 cbar=False,\n",
    "                 annot=True)"
   ]
  },
  {
   "cell_type": "code",
   "execution_count": 64,
   "metadata": {
    "scrolled": true
   },
   "outputs": [
    {
     "data": {
      "text/plain": [
       "1328894"
      ]
     },
     "execution_count": 64,
     "metadata": {},
     "output_type": "execute_result"
    }
   ],
   "source": [
    "id_map[\"New York (state)\"]"
   ]
  },
  {
   "cell_type": "code",
   "execution_count": 61,
   "metadata": {},
   "outputs": [
    {
     "data": {
      "application/vnd.jupyter.widget-view+json": {
       "model_id": "52049d1a38cf410c9246e707c2c918ef",
       "version_major": 2,
       "version_minor": 0
      },
      "text/plain": [
       "interactive(children=(Text(value='', description='query'), Output()), _dom_classes=('widget-interact',))"
      ]
     },
     "metadata": {},
     "output_type": "display_data"
    },
    {
     "data": {
      "text/plain": [
       "<function __main__.show_chart(query)>"
      ]
     },
     "execution_count": 61,
     "metadata": {},
     "output_type": "execute_result"
    }
   ],
   "source": [
    "interact(show_chart, query=\"\")"
   ]
  },
  {
   "cell_type": "code",
   "execution_count": 47,
   "metadata": {},
   "outputs": [
    {
     "data": {
      "application/vnd.jupyter.widget-view+json": {
       "model_id": "7863f95180574789871e557734a50f93",
       "version_major": 2,
       "version_minor": 0
      },
      "text/plain": [
       "interactive(children=(IntSlider(value=50903, description='page', max=101807), Output()), _dom_classes=('widget…"
      ]
     },
     "metadata": {},
     "output_type": "display_data"
    },
    {
     "data": {
      "text/plain": [
       "<function nbhelpers.polars.pager.<locals>.<lambda>(page)>"
      ]
     },
     "execution_count": 47,
     "metadata": {},
     "output_type": "execute_result"
    }
   ],
   "source": [
    "pager(PR.with_columns(pl.Series(\"relevance\", relevance)).filter(pl.col(\"relevance\") > 0).sort(\"relevance\", descending=True), 20)"
   ]
  },
  {
   "cell_type": "code",
   "execution_count": 66,
   "metadata": {},
   "outputs": [],
   "source": [
    "with open(files.in_degree_filename, \"rb\") as fp:\n",
    "    in_degree = np.load(fp)\n",
    "with open(files.out_degree_filename, \"rb\") as fp:\n",
    "    out_degree = np.load(fp)"
   ]
  },
  {
   "cell_type": "code",
   "execution_count": 67,
   "metadata": {},
   "outputs": [],
   "source": [
    "titles_in_node_order_tbl = pyarrow.table({\n",
    "    \"k\": pyarrow.array(id_map.keys(), size=len(id_map)),\n",
    "    \"v\": pyarrow.array(id_map.values(), size=len(id_map)),\n",
    "})"
   ]
  },
  {
   "cell_type": "code",
   "execution_count": 68,
   "metadata": {},
   "outputs": [
    {
     "data": {
      "text/plain": [
       "<pyarrow.lib.ChunkedArray object at 0x711dba1f1260>\n",
       "[\n",
       "  [\n",
       "    \"Alfonso III of Aragon\",\n",
       "    \"Alfonso IV of Aragon\",\n",
       "    \"Amasis II\",\n",
       "    \"Alfonso V of Aragon\",\n",
       "    \"Amathus\",\n",
       "    ...\n",
       "    \"List of Delicious in Dungeon episodes\",\n",
       "    \"Conscious quitting\",\n",
       "    \"Pat Coogan\",\n",
       "    \"Liberation (ZZ Ward album)\",\n",
       "    \"A. amplicollis\"\n",
       "  ]\n",
       "]"
      ]
     },
     "execution_count": 68,
     "metadata": {},
     "output_type": "execute_result"
    }
   ],
   "source": [
    "titles_in_node_order = titles_in_node_order_tbl.sort_by(\"v\").columns[0]\n",
    "titles_in_node_order"
   ]
  },
  {
   "cell_type": "code",
   "execution_count": 69,
   "metadata": {},
   "outputs": [],
   "source": [
    "def perplexity(distribution):\n",
    "    return np.power(2, np.sum(-distribution * np.log2(distribution)))\n",
    "\n",
    "def personalized_page_rank(preference, threshold=1, random_jump_prob=0.15):\n",
    "    global files\n",
    "    global N\n",
    "    global in_degree\n",
    "    global out_degree\n",
    "    current_rank = np.ones(N, dtype=np.float64) / N\n",
    "    next_rank = np.zeros(N, dtype=np.float64)\n",
    "    # iteratively update current_rank\n",
    "    edge_follow_prob = 1 - random_jump_prob\n",
    "    prev_perplexity = float('inf')\n",
    "    current_perplexity = perplexity(current_rank)\n",
    "    current_iter = 0\n",
    "    iter_start = time.time()\n",
    "    print(\"Itr# | ΔPerplexity     | Seconds\")\n",
    "    while abs(prev_perplexity - current_perplexity) > threshold:\n",
    "        current_iter += 1\n",
    "        next_rank[:] = random_jump_prob * preference\n",
    "        # update destinations from non-sink nodes (N x N times N x 1 -> N x 1)\n",
    "        spread_probs = np.vstack([\n",
    "            adjacency_matrix_slice.dot(current_rank[:, np.newaxis])\n",
    "            for adjacency_matrix_slice in map(scipy.sparse.load_npz, files.adjacency_filenames(NUM_PARTITIONS))\n",
    "        ])\n",
    "        next_rank += edge_follow_prob * spread_probs[:, 0]  # make column vector 1-D\n",
    "        # update destinations from sink nodes\n",
    "        next_rank[:] += edge_follow_prob * current_rank[out_degree == 0].sum() / N\n",
    "        # copy `next_rank` values into `current_rank``\n",
    "        current_rank[:] = next_rank\n",
    "        # --\n",
    "        # compute perplexity and progress\n",
    "        prev_perplexity = current_perplexity\n",
    "        current_perplexity = perplexity(current_rank)\n",
    "        next_iter_start = time.time()\n",
    "        print(\"{:<3d}    {:<15.6f}   {:.3f}\".format(current_iter,\n",
    "                                                    current_perplexity - prev_perplexity,\n",
    "                                                    next_iter_start - iter_start))\n",
    "        iter_start = next_iter_start\n",
    "    df = pl.DataFrame({\n",
    "        \"title\": titles_in_node_order, \"value\": next_rank, \"in_deg\": in_degree, \"out_deg\": out_degree,\n",
    "    })\n",
    "    return df"
   ]
  },
  {
   "cell_type": "code",
   "execution_count": 70,
   "metadata": {},
   "outputs": [],
   "source": [
    "relevance /= relevance.sum()"
   ]
  },
  {
   "cell_type": "code",
   "execution_count": 71,
   "metadata": {},
   "outputs": [
    {
     "name": "stdout",
     "output_type": "stream",
     "text": [
      "Itr# | ΔPerplexity     | Seconds\n",
      "1      -6700360.082651   5.145\n",
      "2      -9993.830319      2.588\n",
      "3      -31877.825715     2.460\n",
      "4      -12956.096258     2.442\n",
      "5      -9984.180731      2.431\n",
      "6      -5992.280667      2.444\n",
      "7      -4449.072971      2.451\n",
      "8      -2999.400209      2.444\n",
      "9      -2194.478402      2.424\n",
      "10     -1546.908460      2.454\n",
      "11     -1130.277405      2.467\n",
      "12     -813.575417       2.453\n",
      "13     -597.665924       2.478\n",
      "14     -435.523736       2.448\n",
      "15     -322.003211       2.448\n",
      "16     -236.900737       2.456\n",
      "17     -176.157089       2.434\n",
      "18     -130.592883       2.455\n",
      "19     -97.642914        2.444\n",
      "20     -72.815751        2.422\n",
      "21     -54.716220        2.447\n",
      "22     -41.005683        2.447\n",
      "23     -30.944592        2.484\n",
      "24     -23.287266        2.439\n",
      "25     -17.639313        2.452\n",
      "26     -13.320139        2.453\n",
      "27     -10.122503        2.436\n",
      "28     -7.666236         2.451\n",
      "29     -5.842249         2.472\n",
      "30     -4.435609         2.442\n",
      "31     -3.388580         2.477\n",
      "32     -2.578139         2.444\n",
      "33     -1.973826         2.470\n",
      "34     -1.504485         2.455\n",
      "35     -1.154031         2.469\n",
      "36     -0.881019         2.443\n"
     ]
    }
   ],
   "source": [
    "PPR = personalized_page_rank(relevance)"
   ]
  },
  {
   "cell_type": "code",
   "execution_count": 72,
   "metadata": {},
   "outputs": [],
   "source": [
    "PPR.write_parquet(files.redditrank_parquet_filename)"
   ]
  },
  {
   "cell_type": "code",
   "execution_count": 73,
   "metadata": {},
   "outputs": [],
   "source": [
    "PPR_sorted = PPR.sort(\"value\", descending=True)"
   ]
  },
  {
   "cell_type": "code",
   "execution_count": 74,
   "metadata": {},
   "outputs": [
    {
     "data": {
      "application/vnd.jupyter.widget-view+json": {
       "model_id": "56ee6e944c6b4380880e2c36ed329fa8",
       "version_major": 2,
       "version_minor": 0
      },
      "text/plain": [
       "interactive(children=(Dropdown(description='page', options=(0, 1, 2, 3, 4, 5, 6, 7, 8, 9, 10, 11, 12, 13, 14, …"
      ]
     },
     "metadata": {},
     "output_type": "display_data"
    },
    {
     "data": {
      "text/plain": [
       "<function nbhelpers.polars.pager.<locals>.<lambda>(page)>"
      ]
     },
     "execution_count": 74,
     "metadata": {},
     "output_type": "execute_result"
    }
   ],
   "source": [
    "pager(PPR_sorted.slice(0, 2000), 20)"
   ]
  },
  {
   "cell_type": "code",
   "execution_count": 71,
   "metadata": {},
   "outputs": [
    {
     "data": {
      "application/vnd.jupyter.widget-view+json": {
       "model_id": "4df65b17bff340de8ee55943b3c75755",
       "version_major": 2,
       "version_minor": 0
      },
      "text/plain": [
       "interactive(children=(Text(value='', description='q'), Output()), _dom_classes=('widget-interact',))"
      ]
     },
     "metadata": {},
     "output_type": "display_data"
    },
    {
     "data": {
      "text/plain": [
       "<function nbhelpers.polars.searcher.<locals>.searcher_run(q)>"
      ]
     },
     "execution_count": 71,
     "metadata": {},
     "output_type": "execute_result"
    }
   ],
   "source": [
    "searcher(\n",
    "    PPR_sorted.slice(0, 1000000).with_row_count(name=\"rank\").select([\"rank\", *PPR_sorted.columns]),\n",
    "    ['title'],\n",
    "    20\n",
    ")"
   ]
  },
  {
   "cell_type": "code",
   "execution_count": null,
   "metadata": {},
   "outputs": [],
   "source": []
  }
 ],
 "metadata": {
  "colab": {
   "authorship_tag": "ABX9TyNw97vMeu3UGKrk6j3TYQO8",
   "include_colab_link": true,
   "name": "PageRank.ipynb",
   "provenance": []
  },
  "kernelspec": {
   "display_name": "Python 3 (ipykernel)",
   "language": "python",
   "name": "python3"
  },
  "language_info": {
   "codemirror_mode": {
    "name": "ipython",
    "version": 3
   },
   "file_extension": ".py",
   "mimetype": "text/x-python",
   "name": "python",
   "nbconvert_exporter": "python",
   "pygments_lexer": "ipython3",
   "version": "3.10.16"
  },
  "vscode": {
   "interpreter": {
    "hash": "369f2c481f4da34e4445cda3fffd2e751bd1c4d706f27375911949ba6bb62e1c"
   }
  }
 },
 "nbformat": 4,
 "nbformat_minor": 4
}
