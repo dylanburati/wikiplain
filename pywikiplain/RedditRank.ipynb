{
 "cells": [
  {
   "cell_type": "markdown",
   "metadata": {
    "id": "y4duRjzABB9n"
   },
   "source": [
    "## Counting mentions of Wikipedia articles in Reddit submission titles"
   ]
  },
  {
   "cell_type": "markdown",
   "metadata": {
    "id": "y4duRjzABB9n"
   },
   "source": [
    "### Prerequisites\n",
    "\n",
    "1. Download a dump of Wikipedia's articles, named `enwiki-{date_string}-pages-articles-multistream.xml.bz2`\n",
    "2. Download the `enwiki-{date_string}-pages-articles-multistream-index.txt.bz2` file\n",
    "3. Move those files into the same folder, removing the `enwiki-{date_string}` prefix\n",
    "4. Process the `xml.bz2` file into a Parquet file using `wikiplain.load_bz2`\n",
    "5. Run `PageRank.ipynb`"
   ]
  },
  {
   "cell_type": "code",
   "execution_count": 1,
   "metadata": {},
   "outputs": [],
   "source": [
    "import asyncio\n",
    "import glob\n",
    "import gzip\n",
    "import io\n",
    "import itertools\n",
    "import json\n",
    "import math\n",
    "import operator\n",
    "import os\n",
    "import pickle\n",
    "import random\n",
    "import re\n",
    "import shutil\n",
    "import socket\n",
    "import struct\n",
    "import subprocess\n",
    "import sys\n",
    "import tarfile\n",
    "import time\n",
    "from collections import ChainMap, defaultdict, deque\n",
    "from contextlib import asynccontextmanager, contextmanager\n",
    "from dataclasses import dataclass\n",
    "from datetime import datetime\n",
    "from enum import Enum, auto\n",
    "from functools import lru_cache, partial\n",
    "from urllib.parse import urlencode, urlsplit, quote as urlquote, unquote as urlunquote\n",
    "from xml.sax.saxutils import unescape as xml_unescape\n",
    "from typing import Any, Awaitable, Callable, Literal, TypeVar\n",
    "\n",
    "import cbor2\n",
    "import httpx\n",
    "import ijson\n",
    "import matplotlib.pyplot as plt\n",
    "import mmh3\n",
    "import numpy as np\n",
    "import pandas as pd\n",
    "import pypocketmap as pkm\n",
    "import pyarrow\n",
    "import pyarrow.parquet as pq\n",
    "import polars as pl\n",
    "import seaborn as sns\n",
    "import sqlalchemy as sa\n",
    "import scipy.sparse\n",
    "import toolz\n",
    "from dotenv import load_dotenv\n",
    "from ipywidgets import interact\n",
    "from spacy.lang.en import English\n",
    "from sqlalchemy import create_engine\n",
    "from sqlalchemy.sql import column as sqlcolumn, select, text as sqltext\n",
    "from tqdm.auto import tqdm\n",
    "from zstandard import ZstdDecompressor, ZstdDecompressionReader\n",
    "from arsenal.datastructures.unionfind import UnionFind\n",
    "from arsenal.datastructures.heap import MinMaxHeap\n",
    "\n",
    "import wikiplain\n",
    "from special_cases import SECOND_LEVEL_DOMAINS\n",
    "from nbhelpers.polars import pager, searcher\n",
    "from umbc_web.process_possf2 import PENN_TAGS, PENN_TAGS_BY_ID"
   ]
  },
  {
   "cell_type": "code",
   "execution_count": 2,
   "metadata": {},
   "outputs": [
    {
     "data": {
      "text/plain": [
       "True"
      ]
     },
     "execution_count": 2,
     "metadata": {},
     "output_type": "execute_result"
    }
   ],
   "source": [
    "load_dotenv()"
   ]
  },
  {
   "cell_type": "code",
   "execution_count": 3,
   "metadata": {},
   "outputs": [
    {
     "data": {
      "text/plain": [
       "polars.config.Config"
      ]
     },
     "execution_count": 3,
     "metadata": {},
     "output_type": "execute_result"
    }
   ],
   "source": [
    "pl.Config.set_fmt_str_lengths(160)"
   ]
  },
  {
   "cell_type": "code",
   "execution_count": 65,
   "metadata": {},
   "outputs": [],
   "source": [
    "class RedditRankFiles:\n",
    "    def __init__(self, date_string):\n",
    "        self.date_string = date_string\n",
    "        self.enwiki_dir = f\"{os.environ['ENWIKI_DIR']}/{date_string}\"\n",
    "        self.parquet_dir = os.environ.get('ENWIKI_PARQUET_DIR', self.enwiki_dir)\n",
    "        self.reddit_dir = f\"{os.environ['REDDIT_DIR']}\"\n",
    "        try:\n",
    "            os.mkdir(f\"{self.enwiki_dir}/pagerank\")\n",
    "        except FileExistsError:\n",
    "            pass\n",
    "    \n",
    "    @property\n",
    "    def enwiki_parquet_filename(self):\n",
    "        return f\"{self.parquet_dir}/enwiki_{self.date_string}.parquet\"\n",
    "    \n",
    "    @property\n",
    "    def pagerank_parquet_filename(self):\n",
    "        return f\"{self.parquet_dir}/enwiki_{self.date_string}_pagerank.parquet\"\n",
    "    \n",
    "    @property\n",
    "    def redditrank_parquet_filename(self):\n",
    "        return f\"{self.parquet_dir}/enwiki_{self.date_string}_redditrank.parquet\"\n",
    "    \n",
    "    @property\n",
    "    def enwiki_tokenized_arrow_filename(self):\n",
    "        return f\"{self.parquet_dir}/enwiki_tokenized.arrow\"\n",
    "    \n",
    "    @property\n",
    "    def enwiki_tokenized_database_uri(self):\n",
    "        return f\"sqlite:///{self.parquet_dir}/enwiki_tokenized_{self.date_string}.sqlite\"\n",
    "\n",
    "    @property\n",
    "    def nub_filename(self):\n",
    "        return f\"{self.enwiki_dir}/pagerank/nub.bin\"\n",
    "    \n",
    "    @property\n",
    "    def id_map_filename(self):\n",
    "        return f\"{self.enwiki_dir}/pagerank/id_map.bin\"\n",
    "    \n",
    "    @property\n",
    "    def id_map2_filename(self):\n",
    "        return f\"{self.enwiki_dir}/pagerank/id_map2.bin\"\n",
    "    \n",
    "    @property\n",
    "    def dense_id_arr_filename(self):\n",
    "        return f\"{self.enwiki_dir}/pagerank/dense_id_arr.npy\"\n",
    "    \n",
    "    @property\n",
    "    def edge_filename_pattern(self):\n",
    "        return f\"{self.enwiki_dir}/pagerank/edges_*.npz\"\n",
    "    \n",
    "    def edge_filenames(self, num_partitions):\n",
    "        return [\n",
    "            f\"{self.enwiki_dir}/pagerank/edges_{i}.npz\"\n",
    "            for i in range(num_partitions)\n",
    "        ]\n",
    "    \n",
    "    @property\n",
    "    def hatedge_filename_pattern(self):\n",
    "        return f\"{self.enwiki_dir}/pagerank/hatedges_*.npy\"\n",
    "    \n",
    "    def hatedge_filenames(self, num_partitions):\n",
    "        return [\n",
    "            f\"{self.enwiki_dir}/pagerank/hatedges_{i}.npy\"\n",
    "            for i in range(num_partitions)\n",
    "        ]\n",
    "    \n",
    "    @property\n",
    "    def hatcheck_arr_filename(self):\n",
    "        return f\"{self.enwiki_dir}/pagerank/hatcheck_arr.npy\"\n",
    "\n",
    "    @property\n",
    "    def in_degree_filename(self):\n",
    "        return f\"{self.enwiki_dir}/pagerank/in_degree.npy\"\n",
    "    \n",
    "    @property\n",
    "    def out_degree_filename(self):\n",
    "        return f\"{self.enwiki_dir}/pagerank/out_degree.npy\"\n",
    "    \n",
    "    @property\n",
    "    def disambig_arr_filename(self):\n",
    "        return f\"{self.enwiki_dir}/pagerank/disambig_arr.npy\"\n",
    "    \n",
    "    @property\n",
    "    def top_cite_domains_filename(self):\n",
    "        return f\"{self.enwiki_dir}/pagerank/top_cite_domains.bin\"\n",
    "\n",
    "    @property\n",
    "    def reddit_relevance_filename_pattern(self):\n",
    "        return f\"{self.enwiki_dir}/redditrank/RS_*.npy\"\n",
    "    \n",
    "    def adjacency_filename(self, partition):\n",
    "        return f\"{self.enwiki_dir}/pagerank/adjacency_{partition}.npz\"\n",
    "    \n",
    "    def adjacency_filenames(self, num_partitions):\n",
    "        return [self.adjacency_filename(i) for i in range(num_partitions)]\n",
    "\n",
    "    @property\n",
    "    def category_id_map_filename(self):\n",
    "        return f\"{self.enwiki_dir}/categories/category_id_map.bin\"\n",
    "\n",
    "    @property\n",
    "    def encategory_graph_database_uri(self):\n",
    "        return f\"sqlite:///{self.parquet_dir}/enwiki_category_graph_{self.date_string}.sqlite\"\n",
    "    \n",
    "    @property\n",
    "    def template_id_maps_filename(self):\n",
    "        return f\"{self.enwiki_dir}/pagerank/template_id_maps.pkl\""
   ]
  },
  {
   "cell_type": "code",
   "execution_count": 66,
   "metadata": {},
   "outputs": [],
   "source": [
    "files = RedditRankFiles(\"20240401\")"
   ]
  },
  {
   "cell_type": "markdown",
   "metadata": {
    "id": "y4duRjzABB9n"
   },
   "source": [
    "### Re-use outputs computed by PageRank.ipynb\n",
    "\n",
    "1. Pages with the same title\n",
    "2. `id_map` from non-redirecting article titles to node number, and `id_map2` from redirecting article titles to node number"
   ]
  },
  {
   "cell_type": "code",
   "execution_count": 6,
   "metadata": {},
   "outputs": [],
   "source": [
    "def iterdecode(f):\n",
    "    decoder = cbor2.CBORDecoder(f)\n",
    "    while True:\n",
    "        try:\n",
    "            yield decoder.decode()\n",
    "        except EOFError:\n",
    "            return"
   ]
  },
  {
   "cell_type": "code",
   "execution_count": null,
   "metadata": {},
   "outputs": [],
   "source": [
    "with open(files.nub_"
   ]
  },
  {
   "cell_type": "code",
   "execution_count": 7,
   "metadata": {},
   "outputs": [],
   "source": [
    "with open(files.id_map_filename, \"rb\") as fp:\n",
    "    id_map = pkm.create(str, int)\n",
    "    for k, v in iterdecode(fp):\n",
    "        id_map[k] = v\n",
    "with open(files.id_map2_filename, \"rb\") as fp:\n",
    "    id_map2 = pkm.create(str, int)\n",
    "    for k, v in iterdecode(fp):\n",
    "        id_map2[k] = v\n",
    "# with open(files.dense_id_arr_filename, \"rb\") as fp:\n",
    "#     dense_id_arr = np.load(fp)"
   ]
  },
  {
   "cell_type": "code",
   "execution_count": 8,
   "metadata": {},
   "outputs": [],
   "source": [
    "N = len(id_map)\n",
    "# ids_concat = pyarrow.array(itertools.chain(id_map.keys(), id_map2.keys()), size=len(id_map) + len(id_map2))"
   ]
  },
  {
   "cell_type": "code",
   "execution_count": 9,
   "metadata": {},
   "outputs": [],
   "source": [
    "# node_ids_concat = pyarrow.array(itertools.chain(id_map.values(), id_map2.values()), size=len(id_map) + len(id_map2), type=pyarrow.uint32())"
   ]
  },
  {
   "cell_type": "code",
   "execution_count": 10,
   "metadata": {},
   "outputs": [],
   "source": [
    "LOG_PARTITION_SIZE = 16\n",
    "PARTITION_SIZE = 1 << LOG_PARTITION_SIZE\n",
    "NUM_PARTITIONS = math.ceil(N / PARTITION_SIZE)"
   ]
  },
  {
   "cell_type": "code",
   "execution_count": 11,
   "metadata": {},
   "outputs": [],
   "source": [
    "PR = pl.read_parquet(files.pagerank_parquet_filename)\n",
    "PR_value = PR[\"value\"].to_numpy()"
   ]
  },
  {
   "cell_type": "markdown",
   "metadata": {
    "id": "y4duRjzABB9n"
   },
   "source": [
    "### Wikipedia article stats\n",
    "\n",
    "1. Create `disambig_arr`, a simple boolean array recording whether each article is a disambiguation or set-index page.\n",
    "2. Create `top_cite_domains`, the 1024 most commonly cited websites across all articles."
   ]
  },
  {
   "cell_type": "code",
   "execution_count": 12,
   "metadata": {},
   "outputs": [],
   "source": [
    "class Vec:\n",
    "    def __init__(self, dtype):\n",
    "        self.array = np.ndarray((1024,), dtype=dtype)\n",
    "        self.length = 0\n",
    "    \n",
    "    @property\n",
    "    def capacity(self):\n",
    "        return self.array.shape[0]\n",
    "\n",
    "    def append(self, v):\n",
    "        idx = self.length\n",
    "        if idx >= self.capacity:\n",
    "            addsz = max(2, self.capacity)\n",
    "            self.array = np.hstack((self.array, np.zeros((addsz,), dtype=self.array.dtype)))\n",
    "        self.array[idx] = v\n",
    "        self.length += 1"
   ]
  },
  {
   "cell_type": "code",
   "execution_count": 13,
   "metadata": {},
   "outputs": [],
   "source": [
    "def chunk(iterable, size):\n",
    "    \"\"\"Split an iterable into list chunks of size `n`.\n",
    "    \n",
    "    The last chunk can be fewer than `n` elements long, but it won't be empty.\n",
    "    \"\"\"\n",
    "    iterator = iter(iterable)\n",
    "    while True:\n",
    "        chunk = list(itertools.islice(iterator, size))\n",
    "        if chunk:\n",
    "            yield chunk\n",
    "        else:\n",
    "            return\n",
    "\n",
    "def lazy_chunk(iterable, n):\n",
    "    \"\"\"Split an iterable into iterable chunks of size `n`.\n",
    "    \n",
    "    The last chunk can be fewer than `n` elements long, but it won't be empty.\n",
    "    \"\"\"\n",
    "    iterator = iter(iterable)\n",
    "    while True:\n",
    "        try:\n",
    "            first = next(iterator)\n",
    "        except StopIteration:\n",
    "            return\n",
    "        yield itertools.chain([first], itertools.islice(iterator, n - 1))"
   ]
  },
  {
   "cell_type": "code",
   "execution_count": 14,
   "metadata": {},
   "outputs": [],
   "source": [
    "with open(files.disambig_arr_filename, \"rb\") as fp:\n",
    "    disambig_arr = np.load(fp)"
   ]
  },
  {
   "cell_type": "code",
   "execution_count": 15,
   "metadata": {},
   "outputs": [],
   "source": [
    "with open(files.top_cite_domains_filename, \"rb\") as fp:\n",
    "    top_cite_domains = cbor2.load(fp)"
   ]
  },
  {
   "cell_type": "code",
   "execution_count": 16,
   "metadata": {},
   "outputs": [
    {
     "data": {
      "application/vnd.jupyter.widget-view+json": {
       "model_id": "1d5d9b58fa3b4aa4a876bebdc5b82c33",
       "version_major": 2,
       "version_minor": 0
      },
      "text/plain": [
       "interactive(children=(Dropdown(description='page', options=(0, 1, 2, 3, 4, 5, 6, 7, 8, 9, 10, 11, 12, 13, 14, …"
      ]
     },
     "metadata": {},
     "output_type": "display_data"
    },
    {
     "data": {
      "text/plain": [
       "<function nbhelpers.polars.pager.<locals>.<lambda>(page)>"
      ]
     },
     "execution_count": 16,
     "metadata": {},
     "output_type": "execute_result"
    }
   ],
   "source": [
    "pager(pl.DataFrame(top_cite_domains, schema=['domain', 'count']), 16)"
   ]
  },
  {
   "cell_type": "code",
   "execution_count": 17,
   "metadata": {},
   "outputs": [
    {
     "data": {
      "application/vnd.jupyter.widget-view+json": {
       "model_id": "f5c73c39d2de448196bb3add16460690",
       "version_major": 2,
       "version_minor": 0
      },
      "text/plain": [
       "interactive(children=(Text(value='', description='q'), Output()), _dom_classes=('widget-interact',))"
      ]
     },
     "metadata": {},
     "output_type": "display_data"
    },
    {
     "data": {
      "text/plain": [
       "<function nbhelpers.polars.searcher.<locals>.searcher_run(q)>"
      ]
     },
     "execution_count": 17,
     "metadata": {},
     "output_type": "execute_result"
    }
   ],
   "source": [
    "searcher(pl.DataFrame(top_cite_domains, schema=['domain', 'count'])\n",
    "          .with_columns(pl.Series(\"rank\", range(len(top_cite_domains)))),\n",
    "         [\"domain\"],\n",
    "         16)"
   ]
  },
  {
   "cell_type": "code",
   "execution_count": 18,
   "metadata": {},
   "outputs": [],
   "source": [
    "excluded_domains = {\"imgur.com\", \"twitter.com\", \"youtube.com\", \"soundcloud.com\",\n",
    "                    \"instagram.com\", \"amazon.com\", \"github.com\", \"vimeo.com\",\n",
    "                    \"google.com\"\n",
    "                   }\n",
    "top_cite_domain_set = {domain for domain, _ in top_cite_domains} - excluded_domains"
   ]
  },
  {
   "cell_type": "code",
   "execution_count": 19,
   "metadata": {},
   "outputs": [],
   "source": [
    "ORDER_TAG_BITS = 3\n",
    "NUM_ORDER_TAGS = 1 << ORDER_TAG_BITS\n",
    "DEST_ID_BITS = 31 - ORDER_TAG_BITS\n",
    "DEST_ID_MASK = (1 << DEST_ID_BITS) - 1\n",
    "@lru_cache(maxsize=1)\n",
    "def load_edges(partition):\n",
    "    with np.load(files.edge_filenames(NUM_PARTITIONS)[partition]) as npz:\n",
    "        return list(npz.values())"
   ]
  },
  {
   "cell_type": "code",
   "execution_count": 20,
   "metadata": {},
   "outputs": [],
   "source": [
    "with open(files.hatcheck_arr_filename, \"rb\") as fp:\n",
    "    hatcheck_arr = np.load(fp)"
   ]
  },
  {
   "cell_type": "code",
   "execution_count": 21,
   "metadata": {},
   "outputs": [],
   "source": [
    "@lru_cache(maxsize=1)\n",
    "def load_hatedges(partition):\n",
    "    return np.load(files.hatedge_filenames(NUM_PARTITIONS)[partition])"
   ]
  },
  {
   "cell_type": "code",
   "execution_count": 22,
   "metadata": {},
   "outputs": [
    {
     "data": {
      "text/plain": [
       "array([[  2304733, 268436078]], dtype=int32)"
      ]
     },
     "execution_count": 22,
     "metadata": {},
     "output_type": "execute_result"
    }
   ],
   "source": [
    "test_node_id = id_map[\"Apple\"]\n",
    "hatedges = load_hatedges(test_node_id >> LOG_PARTITION_SIZE)\n",
    "hatedges[hatedges[:, 0] == test_node_id]"
   ]
  },
  {
   "cell_type": "code",
   "execution_count": 23,
   "metadata": {},
   "outputs": [
    {
     "data": {
      "text/plain": [
       "True"
      ]
     },
     "execution_count": 23,
     "metadata": {},
     "output_type": "execute_result"
    }
   ],
   "source": [
    "hatcheck_arr[test_node_id]"
   ]
  },
  {
   "cell_type": "code",
   "execution_count": 24,
   "metadata": {},
   "outputs": [
    {
     "data": {
      "text/plain": [
       "0.03920836022659838"
      ]
     },
     "execution_count": 24,
     "metadata": {},
     "output_type": "execute_result"
    }
   ],
   "source": [
    "np.mean(hatcheck_arr)"
   ]
  },
  {
   "cell_type": "code",
   "execution_count": 25,
   "metadata": {},
   "outputs": [
    {
     "data": {
      "text/plain": [
       "(array([ 719051, 3939870, 1514604,  449579,  133677,   37972,    9475,\n",
       "           1740,     235,      24]),\n",
       " array([-27.6141171 , -25.83428961, -24.05446213, -22.27463464,\n",
       "        -20.49480716, -18.71497968, -16.93515219, -15.15532471,\n",
       "        -13.37549722, -11.59566974,  -9.81584225]))"
      ]
     },
     "execution_count": 25,
     "metadata": {},
     "output_type": "execute_result"
    }
   ],
   "source": [
    "PR_log_median = np.log2(np.median(PR_value))\n",
    "PR_log_min = np.log2(PR_value.min())\n",
    "np.histogram(np.log2(PR_value))"
   ]
  },
  {
   "cell_type": "code",
   "execution_count": 26,
   "metadata": {},
   "outputs": [
    {
     "data": {
      "text/plain": [
       "array([-27.6141171 , -26.13550077, -25.86630391, -25.66954583,\n",
       "       -25.51455566, -25.38266183, -25.25550648, -25.12543473,\n",
       "       -24.99209472, -24.854853  , -24.71184057, -24.55987898,\n",
       "       -24.39255829, -24.20326238, -23.98189778, -23.7182142 ,\n",
       "       -23.39368687, -22.97230764, -22.38142044, -21.37648538,\n",
       "        -9.81584225])"
      ]
     },
     "execution_count": 26,
     "metadata": {},
     "output_type": "execute_result"
    }
   ],
   "source": [
    "np.quantile(np.log2(PR_value), np.linspace(0, 1, 21))"
   ]
  },
  {
   "cell_type": "code",
   "execution_count": 27,
   "metadata": {},
   "outputs": [
    {
     "data": {
      "text/plain": [
       "-22.69842383792257"
      ]
     },
     "execution_count": 27,
     "metadata": {},
     "output_type": "execute_result"
    }
   ],
   "source": [
    "PR_log_mean = np.log2(PR_value.mean())\n",
    "PR_log_mean"
   ]
  },
  {
   "cell_type": "markdown",
   "metadata": {},
   "source": [
    "### Create SQLite database for token-string to Wikipedia article map\n",
    "\n",
    "- Occurrence of a normal article title: weight = 2\n",
    "- Occurrence of a title redirecting to a normal article: weight = 2\n",
    "  - In either case, up to 0.66 is redistributed to hatnotes linking to other articles if there are any\n",
    "    - weights = `(log2(PR_value) - PR_log_min)/2/(PR_log_mean - PR_log_min)`, normalized to sum 0.8 if over\n",
    "- Occurrence of a disambiguation article title: weight = 2 distributed to all articles linked from that page\n",
    "  - &lt;5 links: weights = `2*normalize(PR_value)`\n",
    "  - &ge;5 links: weights = `2*normalize(PR_value)` interpolated with `2*normalize(PR_value * [5,4,2,1,0,0,0,...])`, alpha = `min(0.75, log2(N-4)/8)` (halfway at 20 links, saturates at 60)\n",
    "    - This is because disambiguation pages for popular terms will usually have a 'most commonly referred to' section at the top, and they're more likely to have lots of links.\n",
    "\n",
    "#### Edge format (copied from PageRank)\n",
    "\n",
    "- `edges_{n}.pkl` stores the outgoing links from `PARITION_SIZE*n ..< PARTITION_SIZE*(n+1)`\n",
    "- These are stored in a list where element `i` contains the links out to `PARITION_SIZE*i ..< PARTITION_SIZE*(i+1)`"
   ]
  },
  {
   "cell_type": "code",
   "execution_count": 35,
   "metadata": {},
   "outputs": [
    {
     "data": {
      "application/vnd.jupyter.widget-view+json": {
       "model_id": "12a384d4a5c940bb9be10aaa3217c1b2",
       "version_major": 2,
       "version_minor": 0
      },
      "text/plain": [
       "  0%|          | 0/17679959 [00:00<?, ?it/s]"
      ]
     },
     "metadata": {},
     "output_type": "display_data"
    }
   ],
   "source": [
    "max_span_map = {}\n",
    "def make_terms_concat():\n",
    "    iterator = tqdm(itertools.chain(id_map.keys(), id_map2.keys()), total=len(id_map) + len(id_map2))\n",
    "    for group in chunk(iterator, 1000):\n",
    "        for res in wikiplain.nlp_tokenize(group):\n",
    "            if res:\n",
    "                length = 1 + res.count(' ')\n",
    "                first = res.split(' ', maxsplit=1)[0]\n",
    "                max_span_map[first] = max(max_span_map.get(first, 0), length)\n",
    "            yield res\n",
    "\n",
    "iterator = itertools.chain(id_map.keys(), id_map2.keys())\n",
    "terms_concat = pyarrow.array(make_terms_concat(), size=len(id_map) + len(id_map2))"
   ]
  },
  {
   "cell_type": "code",
   "execution_count": 36,
   "metadata": {},
   "outputs": [],
   "source": [
    "term_table = pyarrow.table({\n",
    "    \"term\": terms_concat,\n",
    "    \"node_id\": pyarrow.array(\n",
    "        # todo construct at same time ^^\n",
    "        itertools.chain(id_map.values(), id_map2.values()),\n",
    "        size=len(id_map) + len(id_map2)\n",
    "    )\n",
    "})"
   ]
  },
  {
   "cell_type": "code",
   "execution_count": 37,
   "metadata": {},
   "outputs": [],
   "source": [
    "term_table = term_table.sort_by(\"term\")"
   ]
  },
  {
   "cell_type": "code",
   "execution_count": 38,
   "metadata": {},
   "outputs": [],
   "source": [
    "pyarrow.parquet.write_table(term_table, files.enwiki_tokenized_arrow_filename)"
   ]
  },
  {
   "cell_type": "code",
   "execution_count": 39,
   "metadata": {},
   "outputs": [
    {
     "data": {
      "application/vnd.jupyter.widget-view+json": {
       "model_id": "c083e3eae2594a36a21dfcd8bcf4bfd7",
       "version_major": 2,
       "version_minor": 0
      },
      "text/plain": [
       "  0%|          | 0/17679959 [00:00<?, ?it/s]"
      ]
     },
     "metadata": {},
     "output_type": "display_data"
    }
   ],
   "source": [
    "def gen_weights():\n",
    "    iterator = zip(tqdm(term_table.columns[0]), term_table.columns[1])\n",
    "    for _, group in itertools.groupby(iterator, lambda e: e[0]):\n",
    "        node_ids = [n.as_py() for _, n in group]\n",
    "        _, unique_indices = np.unique(node_ids, return_index=True)\n",
    "        weights = np.zeros(len(node_ids), dtype=np.float64)\n",
    "        weights[unique_indices] = PR_value[node_ids][unique_indices]\n",
    "        weights /= weights.sum()\n",
    "        yield from weights\n",
    "\n",
    "weight_arr = pyarrow.array(gen_weights(), size=len(terms_concat))"
   ]
  },
  {
   "cell_type": "code",
   "execution_count": 40,
   "metadata": {},
   "outputs": [
    {
     "name": "stdout",
     "output_type": "stream",
     "text": [
      "Flushing output cache (10 entries)\n"
     ]
    }
   ],
   "source": [
    "%reset -f out"
   ]
  },
  {
   "cell_type": "code",
   "execution_count": 41,
   "metadata": {},
   "outputs": [],
   "source": [
    "term_table = term_table.add_column(2, \"weight\", weight_arr)"
   ]
  },
  {
   "cell_type": "code",
   "execution_count": 42,
   "metadata": {},
   "outputs": [
    {
     "data": {
      "text/plain": [
       "pyarrow.Table\n",
       "term: string\n",
       "node_id: int64\n",
       "weight: double\n",
       "----\n",
       "term: [[\"apple\",\"apple\",\"apple\",\"apple\",\"apple\",...,\"appleyard matthew\",\"appleyard peter\",\"appleyard robert\",\"appleyard surname\",\"appleyard william\"]]\n",
       "node_id: [[2304733,3780561,622,967,622,...,4402590,810962,662057,1225181,3630825]]\n",
       "weight: [[0.19532388489854147,0.0005242861313408553,0.7412716151418041,0.057427589710892235,0,...,1,1,1,1,1]]"
      ]
     },
     "execution_count": 42,
     "metadata": {},
     "output_type": "execute_result"
    }
   ],
   "source": [
    "term_table.filter(pyarrow.compute.starts_with(term_table.columns[0], \"apple\"))"
   ]
  },
  {
   "cell_type": "code",
   "execution_count": 43,
   "metadata": {},
   "outputs": [],
   "source": [
    "term_table = term_table.sort_by(\"node_id\")"
   ]
  },
  {
   "cell_type": "code",
   "execution_count": 44,
   "metadata": {},
   "outputs": [],
   "source": [
    "engine = create_engine(files.enwiki_tokenized_database_uri)"
   ]
  },
  {
   "cell_type": "code",
   "execution_count": 45,
   "metadata": {},
   "outputs": [
    {
     "data": {
      "application/vnd.jupyter.widget-view+json": {
       "model_id": "8ecd3ca6cf4a4d39837355580a4e378a",
       "version_major": 2,
       "version_minor": 0
      },
      "text/plain": [
       "  0%|          | 0/17679959 [00:00<?, ?it/s]"
      ]
     },
     "metadata": {},
     "output_type": "display_data"
    }
   ],
   "source": [
    "with engine.begin() as conn:\n",
    "    conn.execute(sqltext(\"CREATE TABLE IF NOT EXISTS term_map (term TEXT NOT NULL, id INTEGER NOT NULL, weight FLOAT NOT NULL)\"))\n",
    "    conn.execute(sqltext(\"DELETE FROM term_map\"))\n",
    "    stmt = sqltext(\"INSERT INTO term_map (term, id, weight) VALUES (:term, :id, :weight)\")\n",
    "    table = term_table  #.filter(pyarrow.compute.starts_with(term_table.columns[0], \"apple\"))\n",
    "    iterator = zip(tqdm(table.columns[0]), table.columns[1], table.columns[2])\n",
    "    early_multipliers = np.array([1, 2, 4, 5])\n",
    "    for term_scalar, node_id_scalar, w_scalar in iterator:\n",
    "        term = term_scalar.as_py()\n",
    "        if term == \"\":\n",
    "            continue\n",
    "        w = w_scalar.as_py()\n",
    "        if w == 0:\n",
    "            continue\n",
    "        node_id = node_id_scalar.as_py()\n",
    "        if disambig_arr[node_id]:\n",
    "            partition = node_id >> LOG_PARTITION_SIZE\n",
    "            destinations = []\n",
    "            for pair_tbl in load_edges(partition):\n",
    "                destinations.append(pair_tbl[pair_tbl[:, 0] == node_id][:, 1])\n",
    "            destination_arr = np.hstack(destinations)\n",
    "            _, unique_inds = np.unique(destination_arr, return_index=True)\n",
    "            destination_arr = destination_arr[unique_inds]\n",
    "            # because of ORDER_TAG and unique sorting the top links are at the end\n",
    "            destination_arr &= DEST_ID_MASK\n",
    "            L = len(destination_arr)\n",
    "            alpha = min(0.75, np.log2(max(1, L-4))/8)\n",
    "            pr_valuel = PR_value[destination_arr]\n",
    "            pr_valuel_early = np.zeros_like(pr_valuel)\n",
    "            if L > 4:\n",
    "                pr_valuel_early[-4:] = pr_valuel[-4:] * early_multipliers\n",
    "                pr_valuel_early /= pr_valuel_early.sum()\n",
    "            pr_valuel /= pr_valuel.sum()\n",
    "            for dest_id, w1, w2 in zip(destination_arr, pr_valuel, pr_valuel_early):\n",
    "                conn.execute(stmt, {\"term\": term, \"id\": int(dest_id), \"weight\": 2.0 * (w1 + alpha*(w2-w1))})\n",
    "        elif hatcheck_arr[node_id]:\n",
    "            partition = node_id >> LOG_PARTITION_SIZE\n",
    "            pair_tbl = load_hatedges(partition)\n",
    "            destination_arr = pair_tbl[pair_tbl[:, 0] == node_id][:, 1]\n",
    "            destination_arr &= DEST_ID_MASK\n",
    "            destination_arr = destination_arr[~disambig_arr[destination_arr]]\n",
    "            pr_valuel = PR_value[destination_arr]\n",
    "            np.log2(pr_valuel, out=pr_valuel)\n",
    "            pr_valuel -= PR_log_min\n",
    "            pr_valuel /= 2 * (PR_log_mean - PR_log_min)\n",
    "            pr_valuel = 0.66 * pr_valuel / max(1.0, pr_valuel.sum())\n",
    "            leftover = 2.0 - pr_valuel.sum()\n",
    "            conn.execute(stmt, {\"term\": term, \"id\": node_id, \"weight\": leftover})\n",
    "            for dest_id, w in zip(destination_arr, pr_valuel):\n",
    "                conn.execute(stmt, {\"term\": term, \"id\": int(dest_id), \"weight\": w})\n",
    "        else:\n",
    "            conn.execute(stmt, {\"term\": term, \"id\": node_id, \"weight\": 2.0 * w})"
   ]
  },
  {
   "cell_type": "code",
   "execution_count": 46,
   "metadata": {},
   "outputs": [],
   "source": [
    "with engine.begin() as conn:\n",
    "    conn.execute(sqltext(\"CREATE TABLE term_map_2 AS SELECT term, id, MAX(weight) AS weight FROM term_map GROUP BY term, id\"))\n",
    "    conn.execute(sqltext(\"ALTER TABLE term_map RENAME TO term_map_noindex\"))\n",
    "    conn.execute(sqltext(\"ALTER TABLE term_map_2 RENAME TO term_map\"))"
   ]
  },
  {
   "cell_type": "code",
   "execution_count": 47,
   "metadata": {},
   "outputs": [],
   "source": [
    "with engine.begin() as conn:\n",
    "    conn.execute(sqltext(\"CREATE INDEX ix_term_map_term ON term_map (term)\"))\n",
    "    conn.execute(sqltext(\"CREATE TABLE max_span_map (k TEXT NOT NULL, v INTEGER NOT NULL)\"))\n",
    "    stmt = sqltext(\"INSERT INTO max_span_map (k, v) VALUES (:k, :v)\")\n",
    "    for k, v in max_span_map.items():\n",
    "        conn.execute(stmt, {\"k\": k, \"v\": v})"
   ]
  },
  {
   "cell_type": "markdown",
   "metadata": {},
   "source": [
    "### Evaluate reddit rank\n",
    "\n",
    "1. Write the `term_map` table of the database to Redis for faster access\n",
    "\n",
    "```python\n",
    "import redis\n",
    "import sqlalchemy\n",
    "from tqdm.auto import tqdm\n",
    "from sqlalchemy.sql import text as sqltext\n",
    "\n",
    "r = redis.Redis(\"127.0.0.1\")\n",
    "# files.enwiki_tokenized_database_uri\n",
    "engine = sqlalchemy.create_engine(\"sqlite:////home/dylan/Downloads/enwiki/20240401/enwiki_tokenized_20240401.sqlite\")\n",
    "for gg in chunk(tqdm(rs),100):\n",
    "    pipe = r.pipeline()\n",
    "    for term, node_id, weight in gg:\n",
    "        pipe.exists(term)\n",
    "        v = struct.pack(\"<If\", node_id, weight)\n",
    "        pipe.append(term, v)\n",
    "    pipe.execute()\n",
    "```\n",
    "\n",
    "2. `services/pos_tagger` on the UMBC web dataset (TODO move this to redditscorer)\n",
    "    ```bash\n",
    "    python umbc_web/process_possf2.py /path/to/umbc_web/webbase_all\n",
    "\n",
    "    # in services/pos_tagger\n",
    "    cargo build --release\n",
    "    ./target/release/pos_tagger <PORT> /path/to/write/model.json\n",
    "\n",
    "    find /path/to/umbc_web/webbase_all -name \\*.ldjson |\n",
    "        shuf |\n",
    "        { while read G; do\n",
    "          F=/tmp/umbc;\n",
    "          zstdcat \"$G\" > \"$F\";\n",
    "          stat -c %s \"$F\" |\n",
    "          python -c 'import struct,sys; sys.stdout.buffer.write(struct.pack(\">2I\", int(input()), 1))';\n",
    "          cat \"$F\";\n",
    "          done\n",
    "        } |\n",
    "        nc localhost <PORT>\n",
    "    ```\n",
    "\n",
    "3. Use the `redditscorer` service\n",
    "\n",
    "```bash\n",
    "# from wikiplain repo root\n",
    "cargo build --package=redditscorer --release\n",
    "./target/release/redditscorer score -i '/media/dylan/smplcache/caps/data/reddit/reddit/submissions/RS*.zst' --db ~/Downloads/enwiki/20240401/enwiki_tokenized_20240401.sqlite --pos ~/Downloads/umbc_webbase/pos_tagger_model.json --size 6806227 -o /home/dylan/Downloads/enwiki/20240401/redditrank/ 2> >(tee /tmp/reddditscorer)\n",
    "```"
   ]
  },
  {
   "cell_type": "code",
   "execution_count": 238,
   "metadata": {},
   "outputs": [],
   "source": [
    "summary_included = np.zeros(N, dtype=np.bool_)\n",
    "rel_files = glob.glob(files.reddit_relevance_filename_pattern)\n",
    "for idx, filename in enumerate(sorted(rel_files)):\n",
    "    with open(filename, \"rb\") as fp:\n",
    "        relevance += np.load(fp)\n",
    "    if (len(rel_files) - 1 - idx) % 3 == 0:\n",
    "        ranks = np.zeros(N, dtype=np.int32)\n",
    "        ranks[np.argsort(relevance)] = N - np.arange(N)\n",
    "        summary_included |= ranks <= 80000\n",
    "        relevance[:] = 0.0"
   ]
  },
  {
   "cell_type": "code",
   "execution_count": 239,
   "metadata": {},
   "outputs": [],
   "source": [
    "summary_index = np.where(summary_included, np.cumsum(summary_included) - 1, -1)"
   ]
  },
  {
   "cell_type": "code",
   "execution_count": 240,
   "metadata": {},
   "outputs": [
    {
     "data": {
      "text/plain": [
       "array([ 0, -1,  1, ..., -1, -1, -1])"
      ]
     },
     "execution_count": 240,
     "metadata": {},
     "output_type": "execute_result"
    }
   ],
   "source": [
    "summary_index"
   ]
  },
  {
   "cell_type": "code",
   "execution_count": 241,
   "metadata": {},
   "outputs": [
    {
     "data": {
      "text/plain": [
       "384161"
      ]
     },
     "execution_count": 241,
     "metadata": {},
     "output_type": "execute_result"
    }
   ],
   "source": [
    "summary_included.sum()"
   ]
  },
  {
   "cell_type": "code",
   "execution_count": 242,
   "metadata": {},
   "outputs": [],
   "source": [
    "summary_ranks = np.zeros((summary_included.sum(), 0))\n",
    "date_ser = []\n",
    "relevance = np.zeros(N)\n",
    "relevance_3m = np.zeros(N)\n",
    "for idx, filename in enumerate(sorted(glob.glob(files.reddit_relevance_filename_pattern))):\n",
    "    with open(filename, \"rb\") as fp:\n",
    "        arr = np.load(fp)\n",
    "        if not np.alltrue(~np.isnan(arr)):\n",
    "            print(f\"mv '{filename}' '{filename.replace('RS_', 'x_RS_')}'\")\n",
    "        relevance += arr\n",
    "        relevance_3m += arr\n",
    "    if (len(rel_files) - 1 - idx) % 3 == 0:\n",
    "        year_month = re.search(r\"RS_([0-9]{4}-[0-9]{2})\", filename).group(1)\n",
    "        date_ser.append(np.datetime64(year_month + '-01T00:00:00'))\n",
    "        ranks = np.zeros(N, dtype=np.int32)\n",
    "        ranks[np.argsort(relevance_3m)] = N - np.arange(N)\n",
    "        summary_ranks = np.hstack((summary_ranks, ranks[summary_included, np.newaxis]))\n",
    "        relevance_3m[:] = 0.0"
   ]
  },
  {
   "cell_type": "code",
   "execution_count": 34,
   "metadata": {},
   "outputs": [
    {
     "name": "stdout",
     "output_type": "stream",
     "text": [
      "Flushing output cache (12 entries)\n"
     ]
    }
   ],
   "source": [
    "%reset -f out"
   ]
  },
  {
   "cell_type": "code",
   "execution_count": 37,
   "metadata": {},
   "outputs": [],
   "source": [
    "%matplotlib inline"
   ]
  },
  {
   "cell_type": "code",
   "execution_count": 38,
   "metadata": {},
   "outputs": [],
   "source": [
    "%config InlineBackend.figure_formats = ['png']"
   ]
  },
  {
   "cell_type": "code",
   "execution_count": 39,
   "metadata": {},
   "outputs": [],
   "source": [
    "sns.set_theme()\n",
    "sns.set_context(\"paper\")"
   ]
  },
  {
   "cell_type": "markdown",
   "metadata": {},
   "source": [
    "#### Chart inputs"
   ]
  },
  {
   "cell_type": "code",
   "execution_count": 246,
   "metadata": {},
   "outputs": [],
   "source": [
    "STATES = [\n",
    "    'Alabama', 'Alaska', 'Arizona', 'Arkansas', 'California',\n",
    "    'Colorado', 'Connecticut', 'Delaware', 'Florida', 'Georgia (U.S. state)',\n",
    "    'Hawaii', 'Idaho', 'Illinois', 'Indiana', 'Iowa',\n",
    "    'Kansas', 'Kentucky', 'Louisiana', 'Maine', 'Maryland',\n",
    "    'Massachusetts', 'Michigan', 'Minnesota', 'Mississippi', 'Missouri',\n",
    "    'Montana', 'Nebraska', 'Nevada', 'New Hampshire', 'New Jersey',\n",
    "    'New Mexico', 'New York (state)', 'North Carolina', 'North Dakota', 'Ohio',\n",
    "    'Oklahoma', 'Oregon', 'Pennsylvania', 'Rhode Island', 'South Carolina',\n",
    "    'South Dakota', 'Tennessee', 'Texas', 'Utah', 'Vermont',\n",
    "    'Virginia', 'Washington (state)', 'West Virginia', 'Wisconsin', 'Wyoming',\n",
    "]\n",
    "CITIES_SUMMER = [\n",
    "    \"Athens\", \"Paris\", \"St. Louis\", \"London\", \"Stockholm\", \"Berlin\",\n",
    "    \"Antwerp\", \"Amsterdam\", \"Los Angeles\", \"Helsinki\", \"Melbourne\",\n",
    "    \"Rome\", \"Tokyo\", \"Mexico City\", \"Munich\", \"Montreal\", \"Seoul\",\n",
    "    \"Barcelona\", \"Atlanta\", \"Sydney\", \"Beijing\", \"Rio de Janeiro\",\n",
    "]\n",
    "NYC_NEIGHBORHOODS_ALL = [\n",
    "    \"Marble Hill, Manhattan\",\n",
    "    \"Inwood, Manhattan\",\n",
    "    \"Fort George (New York)\",\n",
    "    \"Washington Heights, Manhattan\",\n",
    "    \"Hudson Heights, Manhattan\",\n",
    "    \"Harlem\",\n",
    "    \"Hamilton Heights, Manhattan\",\n",
    "    \"Manhattanville, Manhattan\",\n",
    "    \"Morningside Heights\",\n",
    "    # \"St. Nicholas Historic District\",\n",
    "    # \"Astor Row\",\n",
    "    \"Sugar Hill, Manhattan\",\n",
    "    # \"Marcus Garvey Park\",\n",
    "    # \"Mount Morris Park Historic District\",\n",
    "    # \"Le Petit Senegal\",\n",
    "    \"East Harlem\",\n",
    "    \"Upper East Side\",\n",
    "    \"Lenox Hill\",\n",
    "    \"Carnegie Hill\",\n",
    "    \"Yorkville, Manhattan\",\n",
    "    \"Upper West Side\",\n",
    "    \"Manhattan Valley\",\n",
    "    \"Lincoln Square, Manhattan\",\n",
    "    \"Columbus Circle\",\n",
    "    # \"Sutton Place, Manhattan\",\n",
    "    # \"Rockefeller Center\",\n",
    "    # \"47th Street (Manhattan)\",\n",
    "    \"Theater District, Manhattan\",\n",
    "    \"Turtle Bay, Manhattan\",\n",
    "    \"Tudor City\",\n",
    "    \"Little Brazil, Manhattan\",\n",
    "    \"Times Square\",\n",
    "    \"Hudson Yards, Manhattan\",\n",
    "    \"Hell's Kitchen, Manhattan\",\n",
    "    \"Garment District, Manhattan\",\n",
    "    \"Herald Square\",\n",
    "    \"Koreatown, Manhattan\",\n",
    "    \"Murray Hill, Manhattan\",\n",
    "    # \"Kalustyan's\",\n",
    "    \"Tenderloin, Manhattan\",\n",
    "    # \"Madison Square\",\n",
    "    \"Kips Bay, Manhattan\",\n",
    "    \"Rose Hill, Manhattan\",\n",
    "    \"NoMad, Manhattan\",\n",
    "    # \"Gas House district\",\n",
    "    \"Chelsea, Manhattan\",\n",
    "    \"Flatiron District\",\n",
    "    \"Gramercy Park\",\n",
    "    \"Stuyvesant Square\",\n",
    "    \"Union Square, Manhattan\",\n",
    "    \"Stuyvesant Town–Peter Cooper Village\",\n",
    "    \"Meatpacking District, Manhattan\",\n",
    "    \"Waterside Plaza\",\n",
    "    \"Little Germany, Manhattan\",\n",
    "    \"Alphabet City, Manhattan\",\n",
    "    \"East Village, Manhattan\",\n",
    "    \"Greenwich Village\",\n",
    "    \"NoHo, Manhattan\",\n",
    "    \"Bowery\",\n",
    "    \"West Village\",\n",
    "    \"Lower East Side\",\n",
    "    \"SoHo, Manhattan\",\n",
    "    \"Nolita\",\n",
    "    \"Little Australia\",\n",
    "    \"Little Italy, Manhattan\",\n",
    "    \"Chinatown, Manhattan\",\n",
    "    \"Financial District, Manhattan\",\n",
    "    \"Five Points, Manhattan\",\n",
    "    \"Cooperative Village\",\n",
    "    \"Two Bridges, Manhattan\",\n",
    "    \"Tribeca\",\n",
    "    \"Civic Center, Manhattan\",\n",
    "    # \"Radio Row\",\n",
    "    # \"South Street Seaport\",\n",
    "    \"Battery Park City\",\n",
    "    # \"Little Syria\"\n",
    "\n",
    "    \"Crown Heights, Brooklyn\",\n",
    "    \"Weeksville, Brooklyn\",\n",
    "    \"Flatbush\",\n",
    "    \"Beverley Squares\",\n",
    "    \"Ditmas Park, Brooklyn\",\n",
    "    \"East Flatbush, Brooklyn\",\n",
    "    \"Fiske Terrace, Brooklyn\",\n",
    "    \"Wingate, Brooklyn\",\n",
    "    \"Prospect Park (Brooklyn)\",\n",
    "    \"Prospect Lefferts Gardens\",\n",
    "    \"Prospect Park South\",\n",
    "    \"Windsor Terrace, Brooklyn\",\n",
    "    \"Kensington, Brooklyn\",\n",
    "    \"Ocean Parkway (Brooklyn)\",\n",
    "    \"Brownsville, Brooklyn\",\n",
    "    \"Canarsie, Brooklyn\",\n",
    "    \"East New York, Brooklyn\",\n",
    "    \"Spring Creek, Brooklyn\",\n",
    "    \"Starrett City\",\n",
    "    \"Bedford–Stuyvesant, Brooklyn\",\n",
    "    \"Ocean Hill, Brooklyn\",\n",
    "    \"Bushwick, Brooklyn\",\n",
    "    \"Wyckoff Heights, New York City\",\n",
    "    \"East Williamsburg, Brooklyn\",\n",
    "    \"Greenpoint, Brooklyn\",\n",
    "    \"Williamsburg, Brooklyn\",\n",
    "    \"Brooklyn Heights\",\n",
    "    \"Brooklyn Navy Yard\",\n",
    "    \"Admiral's Row\",\n",
    "    \"Cadman Plaza\",\n",
    "    \"Clinton Hill, Brooklyn\",\n",
    "    \"Downtown Brooklyn\",\n",
    "    \"Bridge Plaza, Brooklyn\",\n",
    "    \"Dumbo, Brooklyn\",\n",
    "    \"Fulton Ferry, Brooklyn\",\n",
    "    \"Fort Greene, Brooklyn\",\n",
    "    \"Prospect Heights, Brooklyn\",\n",
    "    \"Pacific Park, Brooklyn\",\n",
    "    \"Vinegar Hill, Brooklyn\",\n",
    "    \"South Brooklyn\",\n",
    "    \"Boerum Hill\",\n",
    "    \"Carroll Gardens, Brooklyn\",\n",
    "    \"Columbia Street Waterfront District\",\n",
    "    \"Cobble Hill, Brooklyn\",\n",
    "    \"Gowanus, Brooklyn\",\n",
    "    \"Park Slope\",\n",
    "    \"Greenwood Heights, Brooklyn\",\n",
    "    \"Park Slope Village\",\n",
    "    \"Red Hook, Brooklyn\",\n",
    "    \"Barren Island, Brooklyn\",\n",
    "    \"Bergen Beach, Brooklyn\",\n",
    "    \"Coney Island\",\n",
    "    \"Brighton Beach\",\n",
    "    \"Manhattan Beach, Brooklyn\",\n",
    "    \"Sea Gate, Brooklyn\",\n",
    "    \"Sheepshead Bay, Brooklyn\",\n",
    "    \"Homecrest, Brooklyn\",\n",
    "    \"Midwood, Brooklyn\",\n",
    "    \"Flatlands, Brooklyn\",\n",
    "    \"Gerritsen Beach, Brooklyn\",\n",
    "    \"Gravesend, Brooklyn\",\n",
    "    \"Marine Park (neighborhood), Brooklyn\",\n",
    "    \"Mill Basin, Brooklyn\",\n",
    "    \"Plumb Beach, Brooklyn\",\n",
    "    \"Bay Ridge, Brooklyn\",\n",
    "    \"Fort Hamilton\",\n",
    "    \"Bensonhurst, Brooklyn\",\n",
    "    \"Bath Beach, Brooklyn\",\n",
    "    \"New Utrecht, Brooklyn\",\n",
    "    \"Borough Park, Brooklyn\",\n",
    "    \"Mapleton, Brooklyn\",\n",
    "    \"Dyker Heights, Brooklyn\",\n",
    "    \"Sunset Park, Brooklyn\",\n",
    "\n",
    "    \"Astoria, Queens\",\n",
    "    # \"Astoria Heights, Queens\",\n",
    "    # \"Ditmars, Queens\",\n",
    "    # \"Steinway, Queens\",\n",
    "    # \"Little Egypt, Astoria\",\n",
    "    \"Long Island City\",\n",
    "    # \"Blissville, Queens\",\n",
    "    # \"Hunters Point, Queens\",\n",
    "    # \"Dutch Kills, Queens\",\n",
    "    # \"Queensbridge Houses\",\n",
    "    \"Queens West\",\n",
    "    # \"Ravenswood, Queens\",\n",
    "    \"Sunnyside, Queens\",\n",
    "    \"Sunnyside Gardens, Queens\",\n",
    "    \"Woodside, Queens\",\n",
    "    \"Little Manila\",\n",
    "    # \"Boulevard Gardens Apartments\",\n",
    "    \"The Hole, New York City\",\n",
    "    \"Howard Beach, Queens\",\n",
    "    # \"Hamilton Beach, Queens\",\n",
    "    # \"Howard Park, Queens\",\n",
    "    # \"Lindenwood, Queens\",\n",
    "    # \"Old Howard Beach, Queens\",\n",
    "    # \"Ramblersville, Queens\",\n",
    "    # \"Rockwood Park, Queens\",\n",
    "    \"Ozone Park, Queens\",\n",
    "    \"South Ozone Park, Queens\",\n",
    "    # \"Tudor Village, Queens\",\n",
    "    \"Richmond Hill, Queens\",\n",
    "    \"Woodhaven, Queens\",\n",
    "    \"Briarwood, Queens\",\n",
    "    \"Corona, Queens\",\n",
    "    \"LeFrak City\",\n",
    "    # \"North Corona, Queens\",\n",
    "    \"East Elmhurst, Queens\",\n",
    "    # \"LaGuardia Airport\",\n",
    "    \"Elmhurst, Queens\",\n",
    "    \"Forest Hills, Queens\",\n",
    "    # \"Forest Hills Gardens, Queens\",\n",
    "    \"Fresh Pond, Queens\",\n",
    "    \"Glendale, Queens\",\n",
    "    \"Jackson Heights, Queens\",\n",
    "    \"Kew Gardens, Queens\",\n",
    "    \"Maspeth, Queens\",\n",
    "    \"Middle Village, Queens\",\n",
    "    \"Rego Park, Queens\",\n",
    "    \"Ridgewood, Queens\",\n",
    "    \"Wyckoff Heights, New York City\",\n",
    "    \"Bayside, Queens\",\n",
    "    \"Bay Terrace, Queens\",\n",
    "    # \"Bayside Hills, Queens\",\n",
    "    \"Fort Totten (Queens)\",\n",
    "    # \"Oakland Gardens, Queens\",\n",
    "    \"Bellerose, Queens\",\n",
    "    \"College Point, Queens\",\n",
    "    \"Douglaston–Little Neck, Queens\",\n",
    "    # \"Douglaston, Queens\",\n",
    "    # \"Douglas Bay, Queens\",\n",
    "    # \"Douglas Manor, Queens\",\n",
    "    # \"Douglaston Hill, Queens\",\n",
    "    # \"Douglaston Park, Queens\",\n",
    "    # \"Winchester Estates, Queens\",\n",
    "    # \"Little Neck, Queens\",\n",
    "    # \"Pines, Queens\",\n",
    "    # \"Little Neck Hills, Queens\",\n",
    "    # \"Westmoreland, Queens\",\n",
    "    \"Flushing, Queens\",\n",
    "    \"Broadway–Flushing, Queens\",\n",
    "    # \"Bowne Park, Queens\",\n",
    "    # \"Chinatown, Flushing\",\n",
    "    \"Koreatown, Queens\",\n",
    "    # \"Linden Hill, Queens\",\n",
    "    # \"Murray Hill, Queens\",\n",
    "    \"Willets Point, Queens\",\n",
    "    \"Pomonok, Queens\",\n",
    "    # \"Electchester, Queens\",\n",
    "    # \"Queensboro Hill, Queens\",\n",
    "    \"Floral Park, New York\",\n",
    "    \"Auburndale, Queens\",\n",
    "    \"Kew Gardens Hills, Queens\",\n",
    "    \"Parkway Village (Queens)\",\n",
    "    \"Fresh Meadows, Queens\",\n",
    "    # \"Hillcrest, Queens\",\n",
    "    # \"Utopia, Queens\",\n",
    "    \"Glen Oaks, Queens\",\n",
    "    \"North Shore Towers\",\n",
    "    \"Whitestone, Queens\",\n",
    "    \"Beechhurst, Queens\",\n",
    "    # \"Malba, Queens\",\n",
    "    # \"Bellaire, Queens\",\n",
    "    # \"Brookville, Queens\",\n",
    "    \"Cambria Heights, Queens\",\n",
    "    \"Hollis, Queens\",\n",
    "    # \"Hollis Hills, Queens\",\n",
    "    \"Holliswood\",\n",
    "    \"Jamaica, Queens\",\n",
    "    \"Jamaica Estates, Queens\",\n",
    "    \"Jamaica Hills, Queens\",\n",
    "    \"South Jamaica, Queens\",\n",
    "    \"Rochdale Village, Queens\",\n",
    "    \"St. Albans, Queens\",\n",
    "    \"Laurelton, Queens\",\n",
    "    \"Queens Village, Queens\",\n",
    "    \"Rosedale, Queens\",\n",
    "    \"Meadowmere, Queens\",\n",
    "    # \"Warnerville, Queens\",\n",
    "    \"Springfield Gardens, Queens\",\n",
    "    \"Rockaway, Queens\",\n",
    "    \"Arverne, Queens\",\n",
    "    \"Bayswater, Queens\",\n",
    "    \"Belle Harbor, Queens\",\n",
    "    \"Breezy Point, Queens\",\n",
    "    \"Broad Channel, Queens\",\n",
    "    \"Edgemere, Queens\",\n",
    "    \"Far Rockaway, Queens\",\n",
    "    \"Hammels, Queens\",\n",
    "    \"Neponsit, Queens\",\n",
    "    \"Rockaway Beach, Queens\",\n",
    "    \"Rockaway Park, Queens\",\n",
    "    \"Roxbury, Queens\",\n",
    "    \"Seaside, Queens\"\n",
    "]\n",
    "\n",
    "ATHLETES = [\n",
    "    \"Roger Federer\",\n",
    "    \"LeBron James\",\n",
    "    \"Lewis Hamilton\",\n",
    "    \"Andre Agassi\",\n",
    "    \"Michael Jordan\",\n",
    "    \"Tom Brady\",\n",
    "    \"Mike Tyson\",\n",
    "    \"Bill Russell\",\n",
    "    \"Tiger Woods\",\n",
    "    \"Stephen Curry\",\n",
    "    \"Kevin Durant\",\n",
    "    \"Larry Bird\",\n",
    "    \"Wayne Gretzky\",\n",
    "    \"Magic Johnson\",\n",
    "    \"Kobe Bryant\",\n",
    "    \"Michael Phelps\",\n",
    "    \"Jackie Robinson\",\n",
    "    \"Shaquille O'Neal\",\n",
    "    \"Muhammad Ali\",\n",
    "    \"Serena Williams\",\n",
    "    \"Pelé\",\n",
    "    \"Diego Maradona\",\n",
    "    \"Garry Kasparov\",\n",
    "    \"Jack Nicklaus\",\n",
    "    \"Kareem Abdul-Jabbar\",\n",
    "    \"Max Verstappen\",\n",
    "    \"Andy Murray\",\n",
    "    \"Babe Ruth\",\n",
    "    \"Alex Rodriguez\",\n",
    "    \"Cristiano Ronaldo\",\n",
    "    \"Lionel Messi\",\n",
    "    \"Wayne Rooney\",\n",
    "    \"Novak Djokovic\",\n",
    "    \"Peyton Manning\",\n",
    "    \"Rafael Nadal\",\n",
    "    \"Usain Bolt\",\n",
    "    \"Rory McIlroy\",\n",
    "    \"Zlatan Ibrahimović\",\n",
    "    \"Venus Williams\",\n",
    "    \"Phil Mickelson\",\n",
    "    \"Brett Favre\",\n",
    "    \"Neymar\",\n",
    "    \"Ichiro Suzuki\",\n",
    "    \"Abby Wambach\",\n",
    "    \"Steffi Graf\",\n",
    "    \"Danielle de Rossi\",\n",
    "    \"Jerry Rice\",\n",
    "    \"Rob Gronkowski\",\n",
    "    \"Lance Armstrong\",\n",
    "    \"Floyd Mayweather Jr.\",\n",
    "    \"Ronaldinho\",\n",
    "    \"Bobby Fischer\",\n",
    "    \"Giannis Antetokounmpo\",\n",
    "    \"Mia Hamm\",\n",
    "    \"Sammy Sosa\",\n",
    "    \"Deion Sanders\",\n",
    "    \"Dale Earnhardt\",\n",
    "    \"Sidney Crosby\",\n",
    "    \"Megan Rapinoe\",\n",
    "    \"Manny Pacquiao\",\n",
    "    \"Diana Taurasi\",\n",
    "    \"Alexander Ovechkin\",\n",
    "    \"Sue Bird\",\n",
    "    \"Hope Solo\",\n",
    "    \"Bobby Orr\",\n",
    "    \"Shohei Ohtani\",\n",
    "    \"Simone Biles\",\n",
    "    \"Maya Moore\",\n",
    "    \"Breanna Stewart\",\n",
    "    \"Evander Holyfield\",\n",
    "    \"Kurt Busch\",\n",
    "    \"Katie Ledecky\",\n",
    "    \"Caitlin Clark\",\n",
    "    \"Mikaela Shiffrin\",\n",
    "    \"Lindsey Vonn\",\n",
    "    \"Ted Ligety\",\n",
    "    \"Bode Miller\",\n",
    "    \"Shaun White\",\n",
    "    \"Tony Hawk\",\n",
    "    \"Nastia Liukin\",\n",
    "    \"Aly Raisman\",\n",
    "    \"Charles Barkley\",\n",
    "]\n",
    "\n",
    "WONDERS = [\n",
    "    \"Great Pyramid of Giza\",\n",
    "    \"Colossus of Rhodes\",\n",
    "    \"Hanging Gardens of Babylon\",\n",
    "    \"Lighthouse of Alexandria\",\n",
    "    \"Catacombs of Kom El Shoqafa\",\n",
    "    \"Colosseum\",\n",
    "    \"Great Wall of China\",\n",
    "    \"Hagia Sophia\",\n",
    "    \"Leaning Tower of Pisa\",\n",
    "    \"Porcelain Tower of Nanjing\",\n",
    "    \"Stonehenge\",\n",
    "    \"Petra\",\n",
    "    \"Christ the Redeemer\",\n",
    "    \"Machu Picchu\",\n",
    "    \"Chichen Itza\",\n",
    "    \"Taj Mahal\",\n",
    "    \"Golden Gate Bridge\",\n",
    "    \"Grand Canyon\",\n",
    "    \"Great Barrier Reef\",\n",
    "    \"Guanabara Bay\",\n",
    "    \"Mount Everest\",\n",
    "    \"Parícutin\",\n",
    "    \"Victoria Falls\",\n",
    "    \"Niagara Falls\",\n",
    "    \"Angkor Wat\"\n",
    "]"
   ]
  },
  {
   "cell_type": "code",
   "execution_count": 247,
   "metadata": {},
   "outputs": [
    {
     "data": {
      "text/plain": [
       "(82, 82)"
      ]
     },
     "execution_count": 247,
     "metadata": {},
     "output_type": "execute_result"
    }
   ],
   "source": [
    "len(set(ATHLETES)), len(ATHLETES)"
   ]
  },
  {
   "cell_type": "code",
   "execution_count": 43,
   "metadata": {},
   "outputs": [
    {
     "data": {
      "application/vnd.jupyter.widget-view+json": {
       "model_id": "1d9b8b3617704968acf4e13330c832f0",
       "version_major": 2,
       "version_minor": 0
      },
      "text/plain": [
       "interactive(children=(Dropdown(description='page', options=(0, 1, 2, 3, 4, 5, 6, 7, 8, 9, 10, 11, 12, 13, 14, …"
      ]
     },
     "metadata": {},
     "output_type": "display_data"
    },
    {
     "data": {
      "text/plain": [
       "<function nbhelpers.polars.pager.<locals>.<lambda>(page)>"
      ]
     },
     "execution_count": 43,
     "metadata": {},
     "output_type": "execute_result"
    }
   ],
   "source": [
    "node_id_lst = [id_map[k] for k in NYC_NEIGHBORHOODS_ALL]\n",
    "pager(\n",
    "    PR.with_row_count(name=\"node_id\").filter(pl.col(\"node_id\").is_in(node_id_lst)).sort(\"value\", descending=True),\n",
    "    10\n",
    ")"
   ]
  },
  {
   "cell_type": "code",
   "execution_count": 44,
   "metadata": {},
   "outputs": [],
   "source": [
    "NYC_NEIGHBORHOODS = PR.with_row_count(name=\"node_id\").filter(pl.col(\"node_id\").is_in(node_id_lst)).sort(\"value\", descending=True).slice(0, 80)[\"title\"].to_list()"
   ]
  },
  {
   "cell_type": "code",
   "execution_count": 68,
   "metadata": {},
   "outputs": [],
   "source": [
    "with open(files.category_id_map_filename, \"rb\") as fp:\n",
    "    category_id_map = cbor2.load(fp)"
   ]
  },
  {
   "cell_type": "code",
   "execution_count": 69,
   "metadata": {},
   "outputs": [
    {
     "data": {
      "text/plain": [
       "[('Futurama', 690070),\n",
       " ('Programming languages', 690571),\n",
       " ('Professional wrestling', 690578),\n",
       " ('Algebra', 690637),\n",
       " ('Anime', 690649),\n",
       " ('Abstract algebra', 690672),\n",
       " ('Computer science', 691117),\n",
       " ('The Simpsons', 691123),\n",
       " ('Algorithms', 691136),\n",
       " ('Data structures', 691150)]"
      ]
     },
     "execution_count": 69,
     "metadata": {},
     "output_type": "execute_result"
    }
   ],
   "source": [
    "list(itertools.islice(category_id_map.items(), 10))"
   ]
  },
  {
   "cell_type": "code",
   "execution_count": 70,
   "metadata": {},
   "outputs": [],
   "source": [
    "category_title_map = {aid: title for title, aid in category_id_map.items()}"
   ]
  },
  {
   "cell_type": "code",
   "execution_count": 71,
   "metadata": {},
   "outputs": [],
   "source": [
    "engine_cg = create_engine(files.encategory_graph_database_uri)"
   ]
  },
  {
   "cell_type": "code",
   "execution_count": 74,
   "metadata": {},
   "outputs": [],
   "source": [
    "db_categorylinks = sa.Table(\n",
    "    \"categorylinks\",\n",
    "    sa.MetaData(),\n",
    "    sa.Column(\"cl_from\", sa.Integer),\n",
    "    sa.Column(\"cl_to\", sa.Integer),\n",
    "    sa.Column(\"cl_subcat\", sa.Boolean),\n",
    ")"
   ]
  },
  {
   "cell_type": "code",
   "execution_count": 75,
   "metadata": {},
   "outputs": [],
   "source": [
    "@contextmanager\n",
    "def null_cm():\n",
    "    yield None"
   ]
  },
  {
   "cell_type": "code",
   "execution_count": 76,
   "metadata": {},
   "outputs": [],
   "source": [
    "class CategoryLister:\n",
    "    def __init__(self, exclude_pattern):\n",
    "        self.parent_cache = {}\n",
    "        self.exclude_rgx = re.compile(exclude_pattern)\n",
    "\n",
    "    def get_category_members(\n",
    "        self,\n",
    "        category,\n",
    "        tree_file=None,\n",
    "        *,\n",
    "        exclude_pattern=None,\n",
    "        exclude_category_ids=None,\n",
    "        max_depth=None\n",
    "    ):\n",
    "        if type(category) is str:\n",
    "            roots = [category]\n",
    "        else:\n",
    "            roots = category\n",
    "        exclude_rgx = self.exclude_rgx if exclude_pattern is None else re.compile(exclude_pattern)\n",
    "        stack = deque([(0, int(category_id_map[k])) for k in roots])\n",
    "        result = set()\n",
    "        visited = set()\n",
    "        batch_sz = (50 if tree_file is None else 1)\n",
    "        if tree_file is None:\n",
    "            opener = null_cm\n",
    "        else:\n",
    "            opener = lambda: open(tree_file, \"w\", encoding=\"utf-8\")\n",
    "        with (engine_cg.connect() as conn_cg,\n",
    "              tqdm() as progress1,\n",
    "              opener() as tree_fh):\n",
    "            while len(stack) > 0:\n",
    "                depth_map = {}\n",
    "                progress1.total = progress1.n + len(stack)\n",
    "                processed = 0\n",
    "                while len(stack) > 0 and len(depth_map) < batch_sz:\n",
    "                    depth, aid = stack.pop()\n",
    "                    processed += 1\n",
    "                    if max_depth is None or depth + 1 <= max_depth:\n",
    "                        if tree_fh is not None:\n",
    "                            tree_fh.write(\"{}- {}\\n\".format(' ' * (2 * depth), category_title_map[aid]))\n",
    "                        depth_map[aid] = depth\n",
    "                progress1.update(processed)\n",
    "                if len(depth_map) == 0:\n",
    "                    continue\n",
    "                stmt = (select(db_categorylinks.c.cl_from, db_categorylinks.c.cl_to, db_categorylinks.c.cl_subcat)\n",
    "                        .where(db_categorylinks.c.cl_to.in_(list(depth_map.keys())))\n",
    "                        .order_by(db_categorylinks.c.cl_to)\n",
    "                       )\n",
    "                res = conn_cg.execute(stmt)\n",
    "                children = []\n",
    "                for parent, rows in itertools.groupby(res, operator.itemgetter(1)):\n",
    "                    depth = depth_map[parent]\n",
    "                    for aid, _, is_subcat in rows:\n",
    "                        self.parent_cache[aid] = parent\n",
    "                        if is_subcat:\n",
    "                            if aid in category_title_map and aid not in visited:\n",
    "                                visited.add(aid)\n",
    "                                cat = category_title_map[aid]\n",
    "                                if (cat not in id_map\n",
    "                                    and (cat not in id_map2 or cat.split()[0].isdigit())\n",
    "                                    and exclude_rgx.search(cat) is None\n",
    "                                    and (exclude_category_ids is None or aid not in exclude_category_ids)\n",
    "                                ):\n",
    "                                    children.append((depth+1, aid))\n",
    "                        else:\n",
    "                            result.add(aid)\n",
    "                children.reverse()\n",
    "                for e in children:\n",
    "                    stack.append(e)\n",
    "        return result"
   ]
  },
  {
   "cell_type": "code",
   "execution_count": 194,
   "metadata": {},
   "outputs": [
    {
     "data": {
      "application/vnd.jupyter.widget-view+json": {
       "model_id": "192291aa1c46403fa991ce158140eda0",
       "version_major": 2,
       "version_minor": 0
      },
      "text/plain": [
       "0it [00:00, ?it/s]"
      ]
     },
     "metadata": {},
     "output_type": "display_data"
    }
   ],
   "source": [
    "category_lister = CategoryLister(r\"^$\")\n",
    "# categorized_athletes = category_lister.get_category_members(\n",
    "#     [\"Sportspeople by location\"],\n",
    "#     # tree_file=\"/tmp/athletes.txt\",\n",
    "#     exclude_pattern=r\"^(Recipients|Presidents) |(families|administrators|investors|owners|directors|executives|commentators|announcers|coaches|countries|hunters|fishers|mountain climbers|gamblers|poker players|martial artists)($| in| from| and)\"\n",
    "# )\n",
    "categorized_athletes = category_lister.get_category_members(\n",
    "    [\"Summer Olympics competitors by country\", \"Winter Olympics competitors by country\", \"NBA players by club\", \"National Hockey League players\",\n",
    "     \"FIFA World Cup players\", \"National Football League players by team\", \"Chess players by competition\",\n",
    "     \"Major League Baseball players by team\", \"World boxing champions by weight class\", \"PGA Tour golfers\", \"Formula One drivers\", \"NASCAR drivers\",\n",
    "     \"Women's National Basketball Association players\", \"FIFA Women's World Cup players\",\n",
    "    ],\n",
    "    # tree_file=\"/tmp/athletes.txt\",\n",
    "    exclude_pattern=r\"^(Recipients|Presidents) |(families|administrators|investors|owners|directors|executives|commentators|announcers|coaches|countries|hunters|fishers|mountain climbers|gamblers|poker players|martial artists)($| in| from| and)\"\n",
    ")"
   ]
  },
  {
   "cell_type": "code",
   "execution_count": 199,
   "metadata": {},
   "outputs": [],
   "source": [
    "parent = dense_id_arr[id_map[\"Caitlin Clark\"]]\n",
    "while (parent := category_lister.parent_cache.get(parent)) is not None:\n",
    "    print(category_title_map[parent])"
   ]
  },
  {
   "cell_type": "code",
   "execution_count": 157,
   "metadata": {},
   "outputs": [
    {
     "data": {
      "text/plain": [
       "7864320"
      ]
     },
     "execution_count": 157,
     "metadata": {},
     "output_type": "execute_result"
    }
   ],
   "source": [
    "next(iter(categorized_athletes))"
   ]
  },
  {
   "cell_type": "code",
   "execution_count": 158,
   "metadata": {},
   "outputs": [],
   "source": [
    "dense_id_arr = np.load(files.dense_id_arr_filename)"
   ]
  },
  {
   "cell_type": "code",
   "execution_count": 195,
   "metadata": {},
   "outputs": [],
   "source": [
    "athlete_wids = np.array(list(categorized_athletes))\n",
    "athlete_ids_all = np.nonzero(np.isin(dense_id_arr, athlete_wids))[0]"
   ]
  },
  {
   "cell_type": "code",
   "execution_count": 196,
   "metadata": {},
   "outputs": [
    {
     "data": {
      "application/vnd.jupyter.widget-view+json": {
       "model_id": "29c1a5e1d9c2432ca645a42e1e80369c",
       "version_major": 2,
       "version_minor": 0
      },
      "text/plain": [
       "interactive(children=(IntSlider(value=10861, description='page', max=21722), Output()), _dom_classes=('widget-…"
      ]
     },
     "metadata": {},
     "output_type": "display_data"
    },
    {
     "data": {
      "text/plain": [
       "<function nbhelpers.polars.pager.<locals>.<lambda>(page)>"
      ]
     },
     "execution_count": 196,
     "metadata": {},
     "output_type": "execute_result"
    }
   ],
   "source": [
    "pager(\n",
    "    PR.with_row_count(name=\"node_id\").filter(pl.col(\"node_id\").is_in(athlete_ids_all)).sort(\"value\", descending=True),\n",
    "    10\n",
    ")"
   ]
  },
  {
   "cell_type": "code",
   "execution_count": 197,
   "metadata": {
    "scrolled": true
   },
   "outputs": [
    {
     "data": {
      "application/vnd.jupyter.widget-view+json": {
       "model_id": "3dfb52ad011d4ab7b47c98b3c23821ed",
       "version_major": 2,
       "version_minor": 0
      },
      "text/plain": [
       "interactive(children=(IntSlider(value=10861, description='page', max=21722), Output()), _dom_classes=('widget-…"
      ]
     },
     "metadata": {},
     "output_type": "display_data"
    },
    {
     "data": {
      "text/plain": [
       "<function nbhelpers.polars.pager.<locals>.<lambda>(page)>"
      ]
     },
     "execution_count": 197,
     "metadata": {},
     "output_type": "execute_result"
    }
   ],
   "source": [
    "pager(\n",
    "    PPR.with_row_count(name=\"node_id\").filter(pl.col(\"node_id\").is_in(athlete_ids_all)).sort(\"value\", descending=True),\n",
    "    10\n",
    ")"
   ]
  },
  {
   "cell_type": "code",
   "execution_count": 198,
   "metadata": {},
   "outputs": [
    {
     "data": {
      "application/vnd.jupyter.widget-view+json": {
       "model_id": "3b03fc65cc0343bfb7bb19a459c753fe",
       "version_major": 2,
       "version_minor": 0
      },
      "text/plain": [
       "interactive(children=(Text(value='', description='q'), Output()), _dom_classes=('widget-interact',))"
      ]
     },
     "metadata": {},
     "output_type": "display_data"
    },
    {
     "data": {
      "text/plain": [
       "<function nbhelpers.polars.searcher.<locals>.searcher_run(q)>"
      ]
     },
     "execution_count": 198,
     "metadata": {},
     "output_type": "execute_result"
    }
   ],
   "source": [
    "searcher(\n",
    "    PPR.with_row_count(name=\"node_id\").filter(pl.col(\"node_id\").is_in(athlete_ids_all)).sort(\"value\", descending=True).with_row_count(),\n",
    "    ['title'],\n",
    "    4\n",
    ")"
   ]
  },
  {
   "cell_type": "code",
   "execution_count": 200,
   "metadata": {},
   "outputs": [],
   "source": [
    "ath1 = PPR.with_row_count(name=\"node_id\").filter(pl.col(\"node_id\").is_in(athlete_ids_all)).sort(\"value\", descending=True)"
   ]
  },
  {
   "cell_type": "markdown",
   "metadata": {},
   "source": [
    "#### Charts"
   ]
  },
  {
   "cell_type": "code",
   "execution_count": 243,
   "metadata": {},
   "outputs": [],
   "source": [
    "time_points = len(date_ser)"
   ]
  },
  {
   "cell_type": "code",
   "execution_count": 263,
   "metadata": {},
   "outputs": [
    {
     "name": "stdout",
     "output_type": "stream",
     "text": [
      "Outside top 10K: Colossus of Rhodes\n",
      "Outside top 10K: Lighthouse of Alexandria\n",
      "Outside top 10K: Catacombs of Kom El Shoqafa\n",
      "Outside top 10K: Porcelain Tower of Nanjing\n",
      "Outside top 10K: Christ the Redeemer\n",
      "Outside top 10K: Chichen Itza\n",
      "Outside top 10K: Parícutin\n"
     ]
    },
    {
     "data": {
      "image/png": "[encoded data removed]",
      "text/plain": [
       "<Figure size 1100x700 with 1 Axes>"
      ]
     },
     "metadata": {},
     "output_type": "display_data"
    }
   ],
   "source": [
    "chart_keys, chart_ids = resolve_summary_ids(WONDERS)\n",
    "chart_summary = summary_ranks[chart_ids]\n",
    "chart_ranks = np.zeros_like(chart_summary, dtype=np.int64)\n",
    "np.put_along_axis(chart_ranks,\n",
    "                  chart_summary.argsort(axis=0),\n",
    "                  1 + np.repeat(np.arange(chart_summary.shape[0])[:, np.newaxis], time_points, axis=1),\n",
    "                  0)\n",
    "chart_summary_order = chart_ranks[:, -1].argsort()\n",
    "chart_ranks = chart_ranks[chart_summary_order]\n",
    "chart_keys = np.array(chart_keys)[chart_summary_order].tolist()\n",
    "fig, ax = plt.subplots(figsize=(11, 7))\n",
    "ax = sns.heatmap(chart_ranks,\n",
    "                 xticklabels=[dt.astype(datetime).strftime(\"%b %y\") for dt in date_ser],\n",
    "                 yticklabels=chart_keys,\n",
    "                 ax=ax,\n",
    "                 cmap='flare',\n",
    "                 cbar=False,\n",
    "                 annot=True)"
   ]
  },
  {
   "cell_type": "code",
   "execution_count": 46,
   "metadata": {
    "scrolled": true
   },
   "outputs": [
    {
     "data": {
      "text/plain": [
       "1332617"
      ]
     },
     "execution_count": 46,
     "metadata": {},
     "output_type": "execute_result"
    }
   ],
   "source": [
    "id_map[\"New York (state)\"]"
   ]
  },
  {
   "cell_type": "code",
   "execution_count": 235,
   "metadata": {},
   "outputs": [],
   "source": [
    "def resolve_summary_ids(chart_keys_q):\n",
    "    chart_keys = []\n",
    "    chart_ids = []\n",
    "    for k in chart_keys_q:\n",
    "        if k not in id_map:\n",
    "            print(\"Not found:\", k)\n",
    "            continue\n",
    "        summary_id = summary_index[id_map[k]]\n",
    "        if summary_id == -1:\n",
    "            print(\"Outside top 10K:\", k)\n",
    "            continue\n",
    "        chart_keys.append(k)\n",
    "        chart_ids.append(summary_id)\n",
    "    return chart_keys, chart_ids\n",
    "\n",
    "def show_chart(query):\n",
    "    chart_keys_q = query.split('|')\n",
    "    chart_keys, chart_ids = resolve_summary_ids(chart_keys_q)\n",
    "    if len(chart_ids) == 0:\n",
    "        return\n",
    "    chart_summary = summary_ranks[chart_ids]\n",
    "    fig, ax = plt.subplots(figsize=(11, 6))\n",
    "    sns.lineplot(x=np.repeat([date_ser], chart_summary.shape[0], axis=0).flatten(),\n",
    "                 y=chart_summary.flatten(),\n",
    "                 hue=np.repeat(np.array(chart_keys), time_points),\n",
    "                 legend=\"full\",\n",
    "                 ax=ax)\n",
    "    sns.move_legend(ax, \"upper left\", bbox_to_anchor=(1, 1))\n",
    "    plt.yscale('log')\n",
    "    ax.set_ylim([1, 100000])\n",
    "    ax.invert_yaxis()\n",
    "\n",
    "def show_comparison_chart(query):\n",
    "    chart_keys_q = query.split('|')\n",
    "    chart_keys, chart_ids = resolve_summary_ids(chart_keys_q)\n",
    "    if len(chart_ids) == 0:\n",
    "        return\n",
    "    chart_summary = summary_ranks[chart_ids]\n",
    "    chart_ranks = np.zeros_like(chart_summary, dtype=np.int64)\n",
    "    np.put_along_axis(chart_ranks,\n",
    "                      chart_summary.argsort(axis=0),\n",
    "                      1 + np.repeat(np.arange(chart_summary.shape[0])[:, np.newaxis], time_points, axis=1),\n",
    "                      0)\n",
    "    fig, ax = plt.subplots(figsize=(11, 3))\n",
    "    ax = sns.lineplot(x=np.repeat([date_ser], chart_summary.shape[0], axis=0).flatten(),\n",
    "                      y=chart_ranks.flatten(),\n",
    "                      hue=np.repeat(np.array(chart_keys), time_points),\n",
    "                      legend=\"full\",\n",
    "                      ax=ax,\n",
    "                      linewidth=3)\n",
    "    sns.move_legend(ax, \"upper left\", bbox_to_anchor=(1, 1))\n",
    "    ax.set_yticks(np.arange(1, chart_summary.shape[0] + 1, dtype=int))\n",
    "    ax.invert_yaxis()"
   ]
  },
  {
   "cell_type": "code",
   "execution_count": 41,
   "metadata": {},
   "outputs": [
    {
     "data": {
      "application/vnd.jupyter.widget-view+json": {
       "model_id": "9cac4112307c4e2d92996b2faa8921a3",
       "version_major": 2,
       "version_minor": 0
      },
      "text/plain": [
       "interactive(children=(Text(value='', description='query'), Output()), _dom_classes=('widget-interact',))"
      ]
     },
     "metadata": {},
     "output_type": "display_data"
    },
    {
     "data": {
      "text/plain": [
       "<function __main__.show_chart(query)>"
      ]
     },
     "execution_count": 41,
     "metadata": {},
     "output_type": "execute_result"
    }
   ],
   "source": [
    "interact(show_chart, query=\"\")"
   ]
  },
  {
   "cell_type": "code",
   "execution_count": 47,
   "metadata": {},
   "outputs": [
    {
     "data": {
      "application/vnd.jupyter.widget-view+json": {
       "model_id": "7863f95180574789871e557734a50f93",
       "version_major": 2,
       "version_minor": 0
      },
      "text/plain": [
       "interactive(children=(IntSlider(value=50903, description='page', max=101807), Output()), _dom_classes=('widget…"
      ]
     },
     "metadata": {},
     "output_type": "display_data"
    },
    {
     "data": {
      "text/plain": [
       "<function nbhelpers.polars.pager.<locals>.<lambda>(page)>"
      ]
     },
     "execution_count": 47,
     "metadata": {},
     "output_type": "execute_result"
    }
   ],
   "source": [
    "pager(PR.with_columns(pl.Series(\"relevance\", relevance)).filter(pl.col(\"relevance\") > 0).sort(\"relevance\", descending=True), 20)"
   ]
  },
  {
   "cell_type": "code",
   "execution_count": 48,
   "metadata": {},
   "outputs": [],
   "source": [
    "with open(files.in_degree_filename, \"rb\") as fp:\n",
    "    in_degree = np.load(fp)\n",
    "with open(files.out_degree_filename, \"rb\") as fp:\n",
    "    out_degree = np.load(fp)"
   ]
  },
  {
   "cell_type": "code",
   "execution_count": 49,
   "metadata": {},
   "outputs": [],
   "source": [
    "titles_in_node_order_tbl = pyarrow.table({\n",
    "    \"k\": pyarrow.array(id_map.keys(), size=len(id_map)),\n",
    "    \"v\": pyarrow.array(id_map.values(), size=len(id_map)),\n",
    "})"
   ]
  },
  {
   "cell_type": "code",
   "execution_count": 50,
   "metadata": {},
   "outputs": [
    {
     "data": {
      "text/plain": [
       "<pyarrow.lib.ChunkedArray object at 0x7f45003e9b20>\n",
       "[\n",
       "  [\n",
       "    \"Anarchism\",\n",
       "    \"Albedo\",\n",
       "    \"A\",\n",
       "    \"Alabama\",\n",
       "    \"Achilles\",\n",
       "    ...\n",
       "    \"Franco D'Attoma\",\n",
       "    \"All Saints' Church, Risley\",\n",
       "    \"Pontus Texel\",\n",
       "    \"2021–22 Harty Cup\",\n",
       "    \"Trần Đình Tiến\"\n",
       "  ]\n",
       "]"
      ]
     },
     "execution_count": 50,
     "metadata": {},
     "output_type": "execute_result"
    }
   ],
   "source": [
    "titles_in_node_order = titles_in_node_order_tbl.sort_by(\"v\").columns[0]\n",
    "titles_in_node_order"
   ]
  },
  {
   "cell_type": "code",
   "execution_count": 51,
   "metadata": {},
   "outputs": [],
   "source": [
    "def perplexity(distribution):\n",
    "    return np.power(2, np.sum(-distribution * np.log2(distribution)))\n",
    "\n",
    "def personalized_page_rank(preference, threshold=1, random_jump_prob=0.15):\n",
    "    global files\n",
    "    global N\n",
    "    global in_degree\n",
    "    global out_degree\n",
    "    current_rank = np.ones(N, dtype=np.float64) / N\n",
    "    next_rank = np.zeros(N, dtype=np.float64)\n",
    "    # iteratively update current_rank\n",
    "    edge_follow_prob = 1 - random_jump_prob\n",
    "    prev_perplexity = float('inf')\n",
    "    current_perplexity = perplexity(current_rank)\n",
    "    current_iter = 0\n",
    "    iter_start = time.time()\n",
    "    print(\"Itr# | ΔPerplexity     | Seconds\")\n",
    "    while abs(prev_perplexity - current_perplexity) > threshold:\n",
    "        current_iter += 1\n",
    "        next_rank[:] = random_jump_prob * preference\n",
    "        # update destinations from non-sink nodes (N x N times N x 1 -> N x 1)\n",
    "        spread_probs = np.vstack([\n",
    "            adjacency_matrix_slice.dot(current_rank[:, np.newaxis])\n",
    "            for adjacency_matrix_slice in map(scipy.sparse.load_npz, files.adjacency_filenames(NUM_PARTITIONS))\n",
    "        ])\n",
    "        next_rank += edge_follow_prob * spread_probs[:, 0]  # make column vector 1-D\n",
    "        # update destinations from sink nodes\n",
    "        next_rank[:] += edge_follow_prob * current_rank[out_degree == 0].sum() / N\n",
    "        # copy `next_rank` values into `current_rank``\n",
    "        current_rank[:] = next_rank\n",
    "        # --\n",
    "        # compute perplexity and progress\n",
    "        prev_perplexity = current_perplexity\n",
    "        current_perplexity = perplexity(current_rank)\n",
    "        next_iter_start = time.time()\n",
    "        print(\"{:<3d}    {:<15.6f}   {:.3f}\".format(current_iter,\n",
    "                                                    current_perplexity - prev_perplexity,\n",
    "                                                    next_iter_start - iter_start))\n",
    "        iter_start = next_iter_start\n",
    "    df = pl.DataFrame({\n",
    "        \"title\": titles_in_node_order, \"value\": next_rank, \"in_deg\": in_degree, \"out_deg\": out_degree,\n",
    "    })\n",
    "    return df"
   ]
  },
  {
   "cell_type": "code",
   "execution_count": 254,
   "metadata": {},
   "outputs": [],
   "source": [
    "relevance /= relevance.sum()"
   ]
  },
  {
   "cell_type": "code",
   "execution_count": 255,
   "metadata": {},
   "outputs": [
    {
     "name": "stdout",
     "output_type": "stream",
     "text": [
      "Itr# | ΔPerplexity     | Seconds\n",
      "1      -6576848.277973   6.370\n",
      "2      -8168.443961      6.457\n",
      "3      -30405.313866     6.427\n",
      "4      -12003.689978     6.456\n",
      "5      -9332.922513      6.420\n",
      "6      -5554.840949      6.483\n",
      "7      -4122.126414      6.436\n",
      "8      -2761.412180      6.681\n",
      "9      -2015.042625      6.360\n",
      "10     -1412.238449      6.403\n",
      "11     -1028.067892      6.458\n",
      "12     -735.952141       6.452\n",
      "13     -538.501174       6.429\n",
      "14     -390.375881       6.468\n",
      "15     -287.547316       6.547\n",
      "16     -210.550213       6.425\n",
      "17     -156.032705       6.639\n",
      "18     -115.188771       8.303\n",
      "19     -85.870372        8.326\n",
      "20     -63.798756        6.970\n",
      "21     -47.820552        3.785\n",
      "22     -35.720667        3.970\n",
      "23     -26.900129        3.640\n",
      "24     -20.185572        3.483\n",
      "25     -15.263909        3.316\n",
      "26     -11.497374        3.293\n",
      "27     -8.725507         3.918\n",
      "28     -6.593640         3.354\n",
      "29     -5.019610         3.299\n",
      "30     -3.803644         3.359\n",
      "31     -2.903566         3.319\n",
      "32     -2.205349         4.379\n",
      "33     -1.687539         3.313\n",
      "34     -1.284334         3.374\n",
      "35     -0.984863         3.411\n"
     ]
    }
   ],
   "source": [
    "PPR = personalized_page_rank(relevance)"
   ]
  },
  {
   "cell_type": "code",
   "execution_count": 256,
   "metadata": {},
   "outputs": [],
   "source": [
    "PPR.write_parquet(files.redditrank_parquet_filename)"
   ]
  },
  {
   "cell_type": "code",
   "execution_count": 257,
   "metadata": {},
   "outputs": [],
   "source": [
    "PPR_sorted = PPR.sort(\"value\", descending=True)"
   ]
  },
  {
   "cell_type": "code",
   "execution_count": 258,
   "metadata": {},
   "outputs": [
    {
     "data": {
      "application/vnd.jupyter.widget-view+json": {
       "model_id": "fc57e64416d544978879f71abf51b514",
       "version_major": 2,
       "version_minor": 0
      },
      "text/plain": [
       "interactive(children=(Dropdown(description='page', options=(0, 1, 2, 3, 4, 5, 6, 7, 8, 9, 10, 11, 12, 13, 14, …"
      ]
     },
     "metadata": {},
     "output_type": "display_data"
    },
    {
     "data": {
      "text/plain": [
       "<function nbhelpers.polars.pager.<locals>.<lambda>(page)>"
      ]
     },
     "execution_count": 258,
     "metadata": {},
     "output_type": "execute_result"
    }
   ],
   "source": [
    "pager(PPR_sorted.slice(0, 2000), 20)"
   ]
  },
  {
   "cell_type": "code",
   "execution_count": 259,
   "metadata": {},
   "outputs": [
    {
     "data": {
      "application/vnd.jupyter.widget-view+json": {
       "model_id": "3b25c183b3d84c8683773fcc9306e808",
       "version_major": 2,
       "version_minor": 0
      },
      "text/plain": [
       "interactive(children=(Text(value='', description='q'), Output()), _dom_classes=('widget-interact',))"
      ]
     },
     "metadata": {},
     "output_type": "display_data"
    },
    {
     "data": {
      "text/plain": [
       "<function nbhelpers.polars.searcher.<locals>.searcher_run(q)>"
      ]
     },
     "execution_count": 259,
     "metadata": {},
     "output_type": "execute_result"
    }
   ],
   "source": [
    "searcher(\n",
    "    PPR_sorted.slice(0, 1000000).with_row_count(name=\"rank\").select([\"rank\", *PPR_sorted.columns]),\n",
    "    ['title'],\n",
    "    20\n",
    ")"
   ]
  },
  {
   "cell_type": "code",
   "execution_count": null,
   "metadata": {},
   "outputs": [],
   "source": []
  }
 ],
 "metadata": {
  "colab": {
   "authorship_tag": "ABX9TyNw97vMeu3UGKrk6j3TYQO8",
   "include_colab_link": true,
   "name": "PageRank.ipynb",
   "provenance": []
  },
  "kernelspec": {
   "display_name": "Python 3 (ipykernel)",
   "language": "python",
   "name": "python3"
  },
  "language_info": {
   "codemirror_mode": {
    "name": "ipython",
    "version": 3
   },
   "file_extension": ".py",
   "mimetype": "text/x-python",
   "name": "python",
   "nbconvert_exporter": "python",
   "pygments_lexer": "ipython3",
   "version": "3.10.9"
  },
  "vscode": {
   "interpreter": {
    "hash": "369f2c481f4da34e4445cda3fffd2e751bd1c4d706f27375911949ba6bb62e1c"
   }
  }
 },
 "nbformat": 4,
 "nbformat_minor": 4
}
